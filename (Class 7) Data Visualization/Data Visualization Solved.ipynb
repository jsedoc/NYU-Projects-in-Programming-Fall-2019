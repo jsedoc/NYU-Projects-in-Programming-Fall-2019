{
 "cells": [
  {
   "cell_type": "markdown",
   "metadata": {},
   "source": [
    "# All material ©2019, Alex Siegman"
   ]
  },
  {
   "cell_type": "markdown",
   "metadata": {},
   "source": [
    "---"
   ]
  },
  {
   "cell_type": "markdown",
   "metadata": {},
   "source": [
    "## There are a seemingly infinite number of different tools for data visualization in Python. For today, we're going to focus on Matplotlib and Seaborn. \n",
    "\n",
    "> Matplotlib is a standard, Python, 2D plotting library (https://matplotlib.org/) <br> \n",
    "> Seaborn is also a Python, data visualization library built atop Matplotlib (https://seaborn.pydata.org/)"
   ]
  },
  {
   "cell_type": "code",
   "execution_count": 105,
   "metadata": {},
   "outputs": [],
   "source": [
    "import matplotlib.pyplot as plt # importing matplotlib.pyplot\n",
    "import seaborn as sns # importing seaborn\n",
    "sns.set(style=\"whitegrid\") # just setting some aesthetics\n",
    "import pandas as pd # importing pandas so we can work with our dataframes\n",
    "%matplotlib inline \n",
    "\n",
    "# \"%matplotlib inline\" is a \"magic function\" in the Jupyter notebook. It ultimately means that\n",
    "# the output of the plotting commands will be displayed within the Jupyter cell \n",
    "# below the code itself. "
   ]
  },
  {
   "cell_type": "code",
   "execution_count": 106,
   "metadata": {},
   "outputs": [],
   "source": [
    "data = pd.read_csv(\"SternTech_UserData.csv\") # read in our csv "
   ]
  },
  {
   "cell_type": "code",
   "execution_count": 107,
   "metadata": {},
   "outputs": [
    {
     "data": {
      "text/html": [
       "<div>\n",
       "<style scoped>\n",
       "    .dataframe tbody tr th:only-of-type {\n",
       "        vertical-align: middle;\n",
       "    }\n",
       "\n",
       "    .dataframe tbody tr th {\n",
       "        vertical-align: top;\n",
       "    }\n",
       "\n",
       "    .dataframe thead th {\n",
       "        text-align: right;\n",
       "    }\n",
       "</style>\n",
       "<table border=\"1\" class=\"dataframe\">\n",
       "  <thead>\n",
       "    <tr style=\"text-align: right;\">\n",
       "      <th></th>\n",
       "      <th>Unnamed: 0</th>\n",
       "      <th>id</th>\n",
       "      <th>company_size</th>\n",
       "      <th>age</th>\n",
       "      <th>sex</th>\n",
       "      <th>clicked_on_ad</th>\n",
       "      <th>ad_type</th>\n",
       "      <th>location</th>\n",
       "      <th>timestamp</th>\n",
       "    </tr>\n",
       "  </thead>\n",
       "  <tbody>\n",
       "    <tr>\n",
       "      <th>0</th>\n",
       "      <td>0</td>\n",
       "      <td>081217b4-1cf5-4657-8287-6db1b75462e4</td>\n",
       "      <td>large</td>\n",
       "      <td>92</td>\n",
       "      <td>M</td>\n",
       "      <td>Yes</td>\n",
       "      <td>Business</td>\n",
       "      <td>MidWest</td>\n",
       "      <td>2018-08-26 06:00:27.124290</td>\n",
       "    </tr>\n",
       "    <tr>\n",
       "      <th>1</th>\n",
       "      <td>1</td>\n",
       "      <td>d0b45a01-b73d-4f8e-bfa8-c53ea75397f1</td>\n",
       "      <td>large</td>\n",
       "      <td>56</td>\n",
       "      <td>M</td>\n",
       "      <td>Yes</td>\n",
       "      <td>Culinary</td>\n",
       "      <td>SouthWest</td>\n",
       "      <td>2011-06-01 18:54:34.815634</td>\n",
       "    </tr>\n",
       "    <tr>\n",
       "      <th>2</th>\n",
       "      <td>2</td>\n",
       "      <td>1dc2e636-e19b-4d42-b228-df09cd009acb</td>\n",
       "      <td>large</td>\n",
       "      <td>20</td>\n",
       "      <td>F</td>\n",
       "      <td>No</td>\n",
       "      <td>Business</td>\n",
       "      <td>SouthEast</td>\n",
       "      <td>2013-07-16 00:24:47.888180</td>\n",
       "    </tr>\n",
       "    <tr>\n",
       "      <th>3</th>\n",
       "      <td>3</td>\n",
       "      <td>5d09d6d4-023e-4fa1-9559-89526679e885</td>\n",
       "      <td>large</td>\n",
       "      <td>55</td>\n",
       "      <td>F</td>\n",
       "      <td>Yes</td>\n",
       "      <td>Political</td>\n",
       "      <td>NorthWest</td>\n",
       "      <td>2010-06-25 12:13:51.369878</td>\n",
       "    </tr>\n",
       "    <tr>\n",
       "      <th>4</th>\n",
       "      <td>4</td>\n",
       "      <td>b69e54e3-fc89-4c0f-8bdb-280409db173e</td>\n",
       "      <td>medium</td>\n",
       "      <td>25</td>\n",
       "      <td>N</td>\n",
       "      <td>No</td>\n",
       "      <td>Tech</td>\n",
       "      <td>US</td>\n",
       "      <td>2010-09-22 07:53:12.454909</td>\n",
       "    </tr>\n",
       "  </tbody>\n",
       "</table>\n",
       "</div>"
      ],
      "text/plain": [
       "   Unnamed: 0                                    id company_size  age sex  \\\n",
       "0           0  081217b4-1cf5-4657-8287-6db1b75462e4        large   92   M   \n",
       "1           1  d0b45a01-b73d-4f8e-bfa8-c53ea75397f1        large   56   M   \n",
       "2           2  1dc2e636-e19b-4d42-b228-df09cd009acb        large   20   F   \n",
       "3           3  5d09d6d4-023e-4fa1-9559-89526679e885        large   55   F   \n",
       "4           4  b69e54e3-fc89-4c0f-8bdb-280409db173e       medium   25   N   \n",
       "\n",
       "  clicked_on_ad    ad_type   location                   timestamp  \n",
       "0           Yes   Business    MidWest  2018-08-26 06:00:27.124290  \n",
       "1           Yes   Culinary  SouthWest  2011-06-01 18:54:34.815634  \n",
       "2            No   Business  SouthEast  2013-07-16 00:24:47.888180  \n",
       "3           Yes  Political  NorthWest  2010-06-25 12:13:51.369878  \n",
       "4            No       Tech         US  2010-09-22 07:53:12.454909  "
      ]
     },
     "execution_count": 107,
     "metadata": {},
     "output_type": "execute_result"
    }
   ],
   "source": [
    "data.head() # check the first five rows of our csv"
   ]
  },
  {
   "cell_type": "code",
   "execution_count": 108,
   "metadata": {},
   "outputs": [],
   "source": [
    "data = data.drop(data.columns[[0]],axis=1)"
   ]
  },
  {
   "cell_type": "markdown",
   "metadata": {},
   "source": [
    "## Admittedly we don't have a lot of quantitative data in our set, so let's create some new fields:"
   ]
  },
  {
   "cell_type": "code",
   "execution_count": 109,
   "metadata": {},
   "outputs": [
    {
     "data": {
      "text/html": [
       "<div>\n",
       "<style scoped>\n",
       "    .dataframe tbody tr th:only-of-type {\n",
       "        vertical-align: middle;\n",
       "    }\n",
       "\n",
       "    .dataframe tbody tr th {\n",
       "        vertical-align: top;\n",
       "    }\n",
       "\n",
       "    .dataframe thead th {\n",
       "        text-align: right;\n",
       "    }\n",
       "</style>\n",
       "<table border=\"1\" class=\"dataframe\">\n",
       "  <thead>\n",
       "    <tr style=\"text-align: right;\">\n",
       "      <th></th>\n",
       "      <th>id</th>\n",
       "      <th>company_size</th>\n",
       "      <th>age</th>\n",
       "      <th>sex</th>\n",
       "      <th>clicked_on_ad</th>\n",
       "      <th>ad_type</th>\n",
       "      <th>location</th>\n",
       "      <th>timestamp</th>\n",
       "      <th>years_customer</th>\n",
       "      <th>churn_propensity</th>\n",
       "      <th>monthly_payment</th>\n",
       "    </tr>\n",
       "  </thead>\n",
       "  <tbody>\n",
       "    <tr>\n",
       "      <th>0</th>\n",
       "      <td>081217b4-1cf5-4657-8287-6db1b75462e4</td>\n",
       "      <td>large</td>\n",
       "      <td>92</td>\n",
       "      <td>M</td>\n",
       "      <td>Yes</td>\n",
       "      <td>Business</td>\n",
       "      <td>MidWest</td>\n",
       "      <td>2018-08-26 06:00:27.124290</td>\n",
       "      <td>10</td>\n",
       "      <td>81</td>\n",
       "      <td>151</td>\n",
       "    </tr>\n",
       "    <tr>\n",
       "      <th>1</th>\n",
       "      <td>d0b45a01-b73d-4f8e-bfa8-c53ea75397f1</td>\n",
       "      <td>large</td>\n",
       "      <td>56</td>\n",
       "      <td>M</td>\n",
       "      <td>Yes</td>\n",
       "      <td>Culinary</td>\n",
       "      <td>SouthWest</td>\n",
       "      <td>2011-06-01 18:54:34.815634</td>\n",
       "      <td>10</td>\n",
       "      <td>46</td>\n",
       "      <td>119</td>\n",
       "    </tr>\n",
       "    <tr>\n",
       "      <th>2</th>\n",
       "      <td>1dc2e636-e19b-4d42-b228-df09cd009acb</td>\n",
       "      <td>large</td>\n",
       "      <td>20</td>\n",
       "      <td>F</td>\n",
       "      <td>No</td>\n",
       "      <td>Business</td>\n",
       "      <td>SouthEast</td>\n",
       "      <td>2013-07-16 00:24:47.888180</td>\n",
       "      <td>4</td>\n",
       "      <td>71</td>\n",
       "      <td>164</td>\n",
       "    </tr>\n",
       "    <tr>\n",
       "      <th>3</th>\n",
       "      <td>5d09d6d4-023e-4fa1-9559-89526679e885</td>\n",
       "      <td>large</td>\n",
       "      <td>55</td>\n",
       "      <td>F</td>\n",
       "      <td>Yes</td>\n",
       "      <td>Political</td>\n",
       "      <td>NorthWest</td>\n",
       "      <td>2010-06-25 12:13:51.369878</td>\n",
       "      <td>15</td>\n",
       "      <td>64</td>\n",
       "      <td>97</td>\n",
       "    </tr>\n",
       "    <tr>\n",
       "      <th>4</th>\n",
       "      <td>b69e54e3-fc89-4c0f-8bdb-280409db173e</td>\n",
       "      <td>medium</td>\n",
       "      <td>25</td>\n",
       "      <td>N</td>\n",
       "      <td>No</td>\n",
       "      <td>Tech</td>\n",
       "      <td>US</td>\n",
       "      <td>2010-09-22 07:53:12.454909</td>\n",
       "      <td>8</td>\n",
       "      <td>33</td>\n",
       "      <td>195</td>\n",
       "    </tr>\n",
       "  </tbody>\n",
       "</table>\n",
       "</div>"
      ],
      "text/plain": [
       "                                     id company_size  age sex clicked_on_ad  \\\n",
       "0  081217b4-1cf5-4657-8287-6db1b75462e4        large   92   M           Yes   \n",
       "1  d0b45a01-b73d-4f8e-bfa8-c53ea75397f1        large   56   M           Yes   \n",
       "2  1dc2e636-e19b-4d42-b228-df09cd009acb        large   20   F            No   \n",
       "3  5d09d6d4-023e-4fa1-9559-89526679e885        large   55   F           Yes   \n",
       "4  b69e54e3-fc89-4c0f-8bdb-280409db173e       medium   25   N            No   \n",
       "\n",
       "     ad_type   location                   timestamp  years_customer  \\\n",
       "0   Business    MidWest  2018-08-26 06:00:27.124290              10   \n",
       "1   Culinary  SouthWest  2011-06-01 18:54:34.815634              10   \n",
       "2   Business  SouthEast  2013-07-16 00:24:47.888180               4   \n",
       "3  Political  NorthWest  2010-06-25 12:13:51.369878              15   \n",
       "4       Tech         US  2010-09-22 07:53:12.454909               8   \n",
       "\n",
       "   churn_propensity  monthly_payment  \n",
       "0                81              151  \n",
       "1                46              119  \n",
       "2                71              164  \n",
       "3                64               97  \n",
       "4                33              195  "
      ]
     },
     "execution_count": 109,
     "metadata": {},
     "output_type": "execute_result"
    }
   ],
   "source": [
    "# let's add a \"years customer\" column denoting how long a given user has been a customer\n",
    "\n",
    "import random \n",
    "\n",
    "years_list = []\n",
    "\n",
    "for i in range(0,50000):\n",
    "    years = random.randint(1,18)\n",
    "    years_list.append(years)\n",
    "    \n",
    "data['years_customer'] = years_list\n",
    "\n",
    "# let's also add a \"propensity to churn\" column denoting the odds that someone cancels their subscription \n",
    "\n",
    "propensity_list = []\n",
    "\n",
    "for i in range(0,50000): \n",
    "    propensity = random.randint(0,99)\n",
    "    propensity_list.append(propensity)\n",
    "    \n",
    "data['churn_propensity'] = propensity_list\n",
    "\n",
    "# and, a \"monthly payment\" column \n",
    "    \n",
    "payment_list = []\n",
    "\n",
    "for i in range(0,50000):\n",
    "    payment = random.randint(15,200)\n",
    "    payment_list.append(payment)\n",
    "    \n",
    "data['monthly_payment'] = payment_list\n",
    "\n",
    "\n",
    "\n",
    "data.head()"
   ]
  },
  {
   "cell_type": "markdown",
   "metadata": {},
   "source": [
    "## An important note on grouping: "
   ]
  },
  {
   "cell_type": "code",
   "execution_count": 110,
   "metadata": {},
   "outputs": [
    {
     "data": {
      "text/plain": [
       "dict_keys(['Canada', 'Mexico', 'MidWest', 'NorthEast', 'NorthWest', 'SouthAmerica', 'SouthEast', 'SouthWest', 'US'])"
      ]
     },
     "execution_count": 110,
     "metadata": {},
     "output_type": "execute_result"
    }
   ],
   "source": [
    "data.groupby(['location']).groups.keys() # let's see the different locations we have in our dataset..."
   ]
  },
  {
   "cell_type": "code",
   "execution_count": 111,
   "metadata": {},
   "outputs": [
    {
     "data": {
      "text/html": [
       "<div>\n",
       "<style scoped>\n",
       "    .dataframe tbody tr th:only-of-type {\n",
       "        vertical-align: middle;\n",
       "    }\n",
       "\n",
       "    .dataframe tbody tr th {\n",
       "        vertical-align: top;\n",
       "    }\n",
       "\n",
       "    .dataframe thead th {\n",
       "        text-align: right;\n",
       "    }\n",
       "</style>\n",
       "<table border=\"1\" class=\"dataframe\">\n",
       "  <thead>\n",
       "    <tr style=\"text-align: right;\">\n",
       "      <th></th>\n",
       "      <th>id</th>\n",
       "      <th>company_size</th>\n",
       "      <th>age</th>\n",
       "      <th>sex</th>\n",
       "      <th>clicked_on_ad</th>\n",
       "      <th>ad_type</th>\n",
       "      <th>timestamp</th>\n",
       "      <th>years_customer</th>\n",
       "      <th>churn_propensity</th>\n",
       "      <th>monthly_payment</th>\n",
       "    </tr>\n",
       "    <tr>\n",
       "      <th>location</th>\n",
       "      <th></th>\n",
       "      <th></th>\n",
       "      <th></th>\n",
       "      <th></th>\n",
       "      <th></th>\n",
       "      <th></th>\n",
       "      <th></th>\n",
       "      <th></th>\n",
       "      <th></th>\n",
       "      <th></th>\n",
       "    </tr>\n",
       "  </thead>\n",
       "  <tbody>\n",
       "    <tr>\n",
       "      <th>Canada</th>\n",
       "      <td>26753d01-eaf3-4906-a0e8-ec3364e336ab</td>\n",
       "      <td>large</td>\n",
       "      <td>87</td>\n",
       "      <td>N</td>\n",
       "      <td>Yes</td>\n",
       "      <td>Political</td>\n",
       "      <td>2018-08-07 01:14:12.732566</td>\n",
       "      <td>12</td>\n",
       "      <td>63</td>\n",
       "      <td>140</td>\n",
       "    </tr>\n",
       "    <tr>\n",
       "      <th>Mexico</th>\n",
       "      <td>e68c8268-aeee-4bbf-b097-9d3d0f7be367</td>\n",
       "      <td>startup</td>\n",
       "      <td>89</td>\n",
       "      <td>F</td>\n",
       "      <td>Yes</td>\n",
       "      <td>Tech</td>\n",
       "      <td>2011-02-03 04:28:16.388852</td>\n",
       "      <td>5</td>\n",
       "      <td>23</td>\n",
       "      <td>134</td>\n",
       "    </tr>\n",
       "    <tr>\n",
       "      <th>MidWest</th>\n",
       "      <td>081217b4-1cf5-4657-8287-6db1b75462e4</td>\n",
       "      <td>large</td>\n",
       "      <td>92</td>\n",
       "      <td>M</td>\n",
       "      <td>Yes</td>\n",
       "      <td>Business</td>\n",
       "      <td>2018-08-26 06:00:27.124290</td>\n",
       "      <td>10</td>\n",
       "      <td>81</td>\n",
       "      <td>151</td>\n",
       "    </tr>\n",
       "    <tr>\n",
       "      <th>NorthEast</th>\n",
       "      <td>346471ed-a4e7-46b3-9418-7dff84b50132</td>\n",
       "      <td>large</td>\n",
       "      <td>95</td>\n",
       "      <td>F</td>\n",
       "      <td>Yes</td>\n",
       "      <td>Culinary</td>\n",
       "      <td>2006-09-30 02:14:29.869183</td>\n",
       "      <td>16</td>\n",
       "      <td>19</td>\n",
       "      <td>80</td>\n",
       "    </tr>\n",
       "    <tr>\n",
       "      <th>NorthWest</th>\n",
       "      <td>5d09d6d4-023e-4fa1-9559-89526679e885</td>\n",
       "      <td>large</td>\n",
       "      <td>55</td>\n",
       "      <td>F</td>\n",
       "      <td>Yes</td>\n",
       "      <td>Political</td>\n",
       "      <td>2010-06-25 12:13:51.369878</td>\n",
       "      <td>15</td>\n",
       "      <td>64</td>\n",
       "      <td>97</td>\n",
       "    </tr>\n",
       "    <tr>\n",
       "      <th>SouthAmerica</th>\n",
       "      <td>ec5a6353-f816-4737-8fed-a8a620fe70c3</td>\n",
       "      <td>medium</td>\n",
       "      <td>39</td>\n",
       "      <td>N</td>\n",
       "      <td>No</td>\n",
       "      <td>Business</td>\n",
       "      <td>2015-08-26 08:07:55.115573</td>\n",
       "      <td>18</td>\n",
       "      <td>64</td>\n",
       "      <td>16</td>\n",
       "    </tr>\n",
       "    <tr>\n",
       "      <th>SouthEast</th>\n",
       "      <td>1dc2e636-e19b-4d42-b228-df09cd009acb</td>\n",
       "      <td>large</td>\n",
       "      <td>20</td>\n",
       "      <td>F</td>\n",
       "      <td>No</td>\n",
       "      <td>Business</td>\n",
       "      <td>2013-07-16 00:24:47.888180</td>\n",
       "      <td>4</td>\n",
       "      <td>71</td>\n",
       "      <td>164</td>\n",
       "    </tr>\n",
       "    <tr>\n",
       "      <th>SouthWest</th>\n",
       "      <td>d0b45a01-b73d-4f8e-bfa8-c53ea75397f1</td>\n",
       "      <td>large</td>\n",
       "      <td>56</td>\n",
       "      <td>M</td>\n",
       "      <td>Yes</td>\n",
       "      <td>Culinary</td>\n",
       "      <td>2011-06-01 18:54:34.815634</td>\n",
       "      <td>10</td>\n",
       "      <td>46</td>\n",
       "      <td>119</td>\n",
       "    </tr>\n",
       "    <tr>\n",
       "      <th>US</th>\n",
       "      <td>b69e54e3-fc89-4c0f-8bdb-280409db173e</td>\n",
       "      <td>medium</td>\n",
       "      <td>25</td>\n",
       "      <td>N</td>\n",
       "      <td>No</td>\n",
       "      <td>Tech</td>\n",
       "      <td>2010-09-22 07:53:12.454909</td>\n",
       "      <td>8</td>\n",
       "      <td>33</td>\n",
       "      <td>195</td>\n",
       "    </tr>\n",
       "  </tbody>\n",
       "</table>\n",
       "</div>"
      ],
      "text/plain": [
       "                                                id company_size  age sex  \\\n",
       "location                                                                   \n",
       "Canada        26753d01-eaf3-4906-a0e8-ec3364e336ab        large   87   N   \n",
       "Mexico        e68c8268-aeee-4bbf-b097-9d3d0f7be367      startup   89   F   \n",
       "MidWest       081217b4-1cf5-4657-8287-6db1b75462e4        large   92   M   \n",
       "NorthEast     346471ed-a4e7-46b3-9418-7dff84b50132        large   95   F   \n",
       "NorthWest     5d09d6d4-023e-4fa1-9559-89526679e885        large   55   F   \n",
       "SouthAmerica  ec5a6353-f816-4737-8fed-a8a620fe70c3       medium   39   N   \n",
       "SouthEast     1dc2e636-e19b-4d42-b228-df09cd009acb        large   20   F   \n",
       "SouthWest     d0b45a01-b73d-4f8e-bfa8-c53ea75397f1        large   56   M   \n",
       "US            b69e54e3-fc89-4c0f-8bdb-280409db173e       medium   25   N   \n",
       "\n",
       "             clicked_on_ad    ad_type                   timestamp  \\\n",
       "location                                                            \n",
       "Canada                 Yes  Political  2018-08-07 01:14:12.732566   \n",
       "Mexico                 Yes       Tech  2011-02-03 04:28:16.388852   \n",
       "MidWest                Yes   Business  2018-08-26 06:00:27.124290   \n",
       "NorthEast              Yes   Culinary  2006-09-30 02:14:29.869183   \n",
       "NorthWest              Yes  Political  2010-06-25 12:13:51.369878   \n",
       "SouthAmerica            No   Business  2015-08-26 08:07:55.115573   \n",
       "SouthEast               No   Business  2013-07-16 00:24:47.888180   \n",
       "SouthWest              Yes   Culinary  2011-06-01 18:54:34.815634   \n",
       "US                      No       Tech  2010-09-22 07:53:12.454909   \n",
       "\n",
       "              years_customer  churn_propensity  monthly_payment  \n",
       "location                                                         \n",
       "Canada                    12                63              140  \n",
       "Mexico                     5                23              134  \n",
       "MidWest                   10                81              151  \n",
       "NorthEast                 16                19               80  \n",
       "NorthWest                 15                64               97  \n",
       "SouthAmerica              18                64               16  \n",
       "SouthEast                  4                71              164  \n",
       "SouthWest                 10                46              119  \n",
       "US                         8                33              195  "
      ]
     },
     "execution_count": 111,
     "metadata": {},
     "output_type": "execute_result"
    }
   ],
   "source": [
    "data.groupby('location').first() # show us the first entry for each location"
   ]
  },
  {
   "cell_type": "code",
   "execution_count": 112,
   "metadata": {},
   "outputs": [
    {
     "data": {
      "text/plain": [
       "location\n",
       "Canada          58.444503\n",
       "Mexico          57.991047\n",
       "MidWest         58.907493\n",
       "NorthEast       58.884084\n",
       "NorthWest       58.120070\n",
       "SouthAmerica    58.431022\n",
       "SouthEast       58.334727\n",
       "SouthWest       58.101925\n",
       "US              58.439169\n",
       "Name: age, dtype: float64"
      ]
     },
     "execution_count": 112,
     "metadata": {},
     "output_type": "execute_result"
    }
   ],
   "source": [
    "data.groupby('location')['age'].mean() # show us the mean age for each location "
   ]
  },
  {
   "cell_type": "markdown",
   "metadata": {},
   "source": [
    "## Note that the result above is a Pandas Series – a one-dimensional array. (Think of a series as a single column in a data frame).\n",
    "\n",
    "## The code below, on the other hand, will produce a Pandas DataFrame."
   ]
  },
  {
   "cell_type": "code",
   "execution_count": 113,
   "metadata": {},
   "outputs": [
    {
     "data": {
      "text/html": [
       "<div>\n",
       "<style scoped>\n",
       "    .dataframe tbody tr th:only-of-type {\n",
       "        vertical-align: middle;\n",
       "    }\n",
       "\n",
       "    .dataframe tbody tr th {\n",
       "        vertical-align: top;\n",
       "    }\n",
       "\n",
       "    .dataframe thead th {\n",
       "        text-align: right;\n",
       "    }\n",
       "</style>\n",
       "<table border=\"1\" class=\"dataframe\">\n",
       "  <thead>\n",
       "    <tr style=\"text-align: right;\">\n",
       "      <th></th>\n",
       "      <th>age</th>\n",
       "    </tr>\n",
       "    <tr>\n",
       "      <th>location</th>\n",
       "      <th></th>\n",
       "    </tr>\n",
       "  </thead>\n",
       "  <tbody>\n",
       "    <tr>\n",
       "      <th>Canada</th>\n",
       "      <td>58.444503</td>\n",
       "    </tr>\n",
       "    <tr>\n",
       "      <th>Mexico</th>\n",
       "      <td>57.991047</td>\n",
       "    </tr>\n",
       "    <tr>\n",
       "      <th>MidWest</th>\n",
       "      <td>58.907493</td>\n",
       "    </tr>\n",
       "    <tr>\n",
       "      <th>NorthEast</th>\n",
       "      <td>58.884084</td>\n",
       "    </tr>\n",
       "    <tr>\n",
       "      <th>NorthWest</th>\n",
       "      <td>58.120070</td>\n",
       "    </tr>\n",
       "    <tr>\n",
       "      <th>SouthAmerica</th>\n",
       "      <td>58.431022</td>\n",
       "    </tr>\n",
       "    <tr>\n",
       "      <th>SouthEast</th>\n",
       "      <td>58.334727</td>\n",
       "    </tr>\n",
       "    <tr>\n",
       "      <th>SouthWest</th>\n",
       "      <td>58.101925</td>\n",
       "    </tr>\n",
       "    <tr>\n",
       "      <th>US</th>\n",
       "      <td>58.439169</td>\n",
       "    </tr>\n",
       "  </tbody>\n",
       "</table>\n",
       "</div>"
      ],
      "text/plain": [
       "                    age\n",
       "location               \n",
       "Canada        58.444503\n",
       "Mexico        57.991047\n",
       "MidWest       58.907493\n",
       "NorthEast     58.884084\n",
       "NorthWest     58.120070\n",
       "SouthAmerica  58.431022\n",
       "SouthEast     58.334727\n",
       "SouthWest     58.101925\n",
       "US            58.439169"
      ]
     },
     "execution_count": 113,
     "metadata": {},
     "output_type": "execute_result"
    }
   ],
   "source": [
    "data.groupby('location')[['age']].mean()"
   ]
  },
  {
   "cell_type": "markdown",
   "metadata": {},
   "source": [
    "## It may seem like a negligible difference, but just like dtypes are important, how Python is viewing our data dictates what we can do with that data, and how we do it. "
   ]
  },
  {
   "cell_type": "code",
   "execution_count": 114,
   "metadata": {},
   "outputs": [
    {
     "data": {
      "text/html": [
       "<div>\n",
       "<style scoped>\n",
       "    .dataframe tbody tr th:only-of-type {\n",
       "        vertical-align: middle;\n",
       "    }\n",
       "\n",
       "    .dataframe tbody tr th {\n",
       "        vertical-align: top;\n",
       "    }\n",
       "\n",
       "    .dataframe thead th {\n",
       "        text-align: right;\n",
       "    }\n",
       "</style>\n",
       "<table border=\"1\" class=\"dataframe\">\n",
       "  <thead>\n",
       "    <tr style=\"text-align: right;\">\n",
       "      <th></th>\n",
       "      <th>location</th>\n",
       "      <th>age</th>\n",
       "    </tr>\n",
       "  </thead>\n",
       "  <tbody>\n",
       "    <tr>\n",
       "      <th>0</th>\n",
       "      <td>Canada</td>\n",
       "      <td>58.444503</td>\n",
       "    </tr>\n",
       "    <tr>\n",
       "      <th>1</th>\n",
       "      <td>Mexico</td>\n",
       "      <td>57.991047</td>\n",
       "    </tr>\n",
       "    <tr>\n",
       "      <th>2</th>\n",
       "      <td>MidWest</td>\n",
       "      <td>58.907493</td>\n",
       "    </tr>\n",
       "    <tr>\n",
       "      <th>3</th>\n",
       "      <td>NorthEast</td>\n",
       "      <td>58.884084</td>\n",
       "    </tr>\n",
       "    <tr>\n",
       "      <th>4</th>\n",
       "      <td>NorthWest</td>\n",
       "      <td>58.120070</td>\n",
       "    </tr>\n",
       "    <tr>\n",
       "      <th>5</th>\n",
       "      <td>SouthAmerica</td>\n",
       "      <td>58.431022</td>\n",
       "    </tr>\n",
       "    <tr>\n",
       "      <th>6</th>\n",
       "      <td>SouthEast</td>\n",
       "      <td>58.334727</td>\n",
       "    </tr>\n",
       "    <tr>\n",
       "      <th>7</th>\n",
       "      <td>SouthWest</td>\n",
       "      <td>58.101925</td>\n",
       "    </tr>\n",
       "    <tr>\n",
       "      <th>8</th>\n",
       "      <td>US</td>\n",
       "      <td>58.439169</td>\n",
       "    </tr>\n",
       "  </tbody>\n",
       "</table>\n",
       "</div>"
      ],
      "text/plain": [
       "       location        age\n",
       "0        Canada  58.444503\n",
       "1        Mexico  57.991047\n",
       "2       MidWest  58.907493\n",
       "3     NorthEast  58.884084\n",
       "4     NorthWest  58.120070\n",
       "5  SouthAmerica  58.431022\n",
       "6     SouthEast  58.334727\n",
       "7     SouthWest  58.101925\n",
       "8            US  58.439169"
      ]
     },
     "execution_count": 114,
     "metadata": {},
     "output_type": "execute_result"
    }
   ],
   "source": [
    "data.groupby('location', as_index=False).agg({\"age\": \"mean\"}) # let's create a DataFrame without setting a new index"
   ]
  },
  {
   "cell_type": "code",
   "execution_count": 115,
   "metadata": {},
   "outputs": [],
   "source": [
    "click_data = data[data['clicked_on_ad'] == 'Yes'].groupby('location')['age'].mean()\n",
    "\n",
    "# get the mean age for users in each location who clicked on an ad"
   ]
  },
  {
   "cell_type": "code",
   "execution_count": 116,
   "metadata": {},
   "outputs": [
    {
     "data": {
      "text/plain": [
       "location\n",
       "Canada          58.374086\n",
       "Mexico          58.506531\n",
       "MidWest         58.889761\n",
       "NorthEast       58.608711\n",
       "NorthWest       58.087780\n",
       "SouthAmerica    58.131626\n",
       "SouthEast       58.768459\n",
       "SouthWest       58.310570\n",
       "US              58.633770\n",
       "Name: age, dtype: float64"
      ]
     },
     "execution_count": 116,
     "metadata": {},
     "output_type": "execute_result"
    }
   ],
   "source": [
    "click_data"
   ]
  },
  {
   "cell_type": "code",
   "execution_count": 117,
   "metadata": {},
   "outputs": [
    {
     "data": {
      "text/plain": [
       "pandas.core.series.Series"
      ]
     },
     "execution_count": 117,
     "metadata": {},
     "output_type": "execute_result"
    }
   ],
   "source": [
    "type(click_data) # note that this is being stored as a series..."
   ]
  },
  {
   "cell_type": "markdown",
   "metadata": {},
   "source": [
    "## Our SternTech data was fine for practicing our analytics skills, but we're going to need a bit more substantial data to show the power of graphing in Python. So, let's read in a new CSV:"
   ]
  },
  {
   "cell_type": "code",
   "execution_count": 129,
   "metadata": {},
   "outputs": [
    {
     "data": {
      "text/html": [
       "<div>\n",
       "<style scoped>\n",
       "    .dataframe tbody tr th:only-of-type {\n",
       "        vertical-align: middle;\n",
       "    }\n",
       "\n",
       "    .dataframe tbody tr th {\n",
       "        vertical-align: top;\n",
       "    }\n",
       "\n",
       "    .dataframe thead th {\n",
       "        text-align: right;\n",
       "    }\n",
       "</style>\n",
       "<table border=\"1\" class=\"dataframe\">\n",
       "  <thead>\n",
       "    <tr style=\"text-align: right;\">\n",
       "      <th></th>\n",
       "      <th>PassengerId</th>\n",
       "      <th>Survived</th>\n",
       "      <th>Pclass</th>\n",
       "      <th>Name</th>\n",
       "      <th>Sex</th>\n",
       "      <th>Age</th>\n",
       "      <th>SibSp</th>\n",
       "      <th>Parch</th>\n",
       "      <th>Ticket</th>\n",
       "      <th>Fare</th>\n",
       "      <th>Cabin</th>\n",
       "      <th>Embarked</th>\n",
       "    </tr>\n",
       "  </thead>\n",
       "  <tbody>\n",
       "    <tr>\n",
       "      <th>0</th>\n",
       "      <td>1</td>\n",
       "      <td>0</td>\n",
       "      <td>3</td>\n",
       "      <td>Braund, Mr. Owen Harris</td>\n",
       "      <td>male</td>\n",
       "      <td>22.0</td>\n",
       "      <td>1</td>\n",
       "      <td>0</td>\n",
       "      <td>A/5 21171</td>\n",
       "      <td>7.2500</td>\n",
       "      <td>NaN</td>\n",
       "      <td>S</td>\n",
       "    </tr>\n",
       "    <tr>\n",
       "      <th>1</th>\n",
       "      <td>2</td>\n",
       "      <td>1</td>\n",
       "      <td>1</td>\n",
       "      <td>Cumings, Mrs. John Bradley (Florence Briggs Th...</td>\n",
       "      <td>female</td>\n",
       "      <td>38.0</td>\n",
       "      <td>1</td>\n",
       "      <td>0</td>\n",
       "      <td>PC 17599</td>\n",
       "      <td>71.2833</td>\n",
       "      <td>C85</td>\n",
       "      <td>C</td>\n",
       "    </tr>\n",
       "    <tr>\n",
       "      <th>2</th>\n",
       "      <td>3</td>\n",
       "      <td>1</td>\n",
       "      <td>3</td>\n",
       "      <td>Heikkinen, Miss. Laina</td>\n",
       "      <td>female</td>\n",
       "      <td>26.0</td>\n",
       "      <td>0</td>\n",
       "      <td>0</td>\n",
       "      <td>STON/O2. 3101282</td>\n",
       "      <td>7.9250</td>\n",
       "      <td>NaN</td>\n",
       "      <td>S</td>\n",
       "    </tr>\n",
       "    <tr>\n",
       "      <th>3</th>\n",
       "      <td>4</td>\n",
       "      <td>1</td>\n",
       "      <td>1</td>\n",
       "      <td>Futrelle, Mrs. Jacques Heath (Lily May Peel)</td>\n",
       "      <td>female</td>\n",
       "      <td>35.0</td>\n",
       "      <td>1</td>\n",
       "      <td>0</td>\n",
       "      <td>113803</td>\n",
       "      <td>53.1000</td>\n",
       "      <td>C123</td>\n",
       "      <td>S</td>\n",
       "    </tr>\n",
       "    <tr>\n",
       "      <th>4</th>\n",
       "      <td>5</td>\n",
       "      <td>0</td>\n",
       "      <td>3</td>\n",
       "      <td>Allen, Mr. William Henry</td>\n",
       "      <td>male</td>\n",
       "      <td>35.0</td>\n",
       "      <td>0</td>\n",
       "      <td>0</td>\n",
       "      <td>373450</td>\n",
       "      <td>8.0500</td>\n",
       "      <td>NaN</td>\n",
       "      <td>S</td>\n",
       "    </tr>\n",
       "  </tbody>\n",
       "</table>\n",
       "</div>"
      ],
      "text/plain": [
       "   PassengerId  Survived  Pclass  \\\n",
       "0            1         0       3   \n",
       "1            2         1       1   \n",
       "2            3         1       3   \n",
       "3            4         1       1   \n",
       "4            5         0       3   \n",
       "\n",
       "                                                Name     Sex   Age  SibSp  \\\n",
       "0                            Braund, Mr. Owen Harris    male  22.0      1   \n",
       "1  Cumings, Mrs. John Bradley (Florence Briggs Th...  female  38.0      1   \n",
       "2                             Heikkinen, Miss. Laina  female  26.0      0   \n",
       "3       Futrelle, Mrs. Jacques Heath (Lily May Peel)  female  35.0      1   \n",
       "4                           Allen, Mr. William Henry    male  35.0      0   \n",
       "\n",
       "   Parch            Ticket     Fare Cabin Embarked  \n",
       "0      0         A/5 21171   7.2500   NaN        S  \n",
       "1      0          PC 17599  71.2833   C85        C  \n",
       "2      0  STON/O2. 3101282   7.9250   NaN        S  \n",
       "3      0            113803  53.1000  C123        S  \n",
       "4      0            373450   8.0500   NaN        S  "
      ]
     },
     "execution_count": 129,
     "metadata": {},
     "output_type": "execute_result"
    }
   ],
   "source": [
    "data = pd.read_csv(\"/Users/siegmanA/Desktop/NYU-Projects-in-Programming-Fall-2019/(Class 7) Data Visualization/titanic_train.csv\") \n",
    "\n",
    "# this dataset comes from Kaggle and can be found here: https://www.kaggle.com/c/titanic/data\n",
    "\n",
    "data.head()"
   ]
  },
  {
   "cell_type": "markdown",
   "metadata": {},
   "source": [
    "## Barplots "
   ]
  },
  {
   "cell_type": "code",
   "execution_count": 130,
   "metadata": {},
   "outputs": [
    {
     "data": {
      "text/html": [
       "<div>\n",
       "<style scoped>\n",
       "    .dataframe tbody tr th:only-of-type {\n",
       "        vertical-align: middle;\n",
       "    }\n",
       "\n",
       "    .dataframe tbody tr th {\n",
       "        vertical-align: top;\n",
       "    }\n",
       "\n",
       "    .dataframe thead th {\n",
       "        text-align: right;\n",
       "    }\n",
       "</style>\n",
       "<table border=\"1\" class=\"dataframe\">\n",
       "  <thead>\n",
       "    <tr style=\"text-align: right;\">\n",
       "      <th></th>\n",
       "      <th>PassengerId</th>\n",
       "      <th>Survived</th>\n",
       "      <th>Pclass</th>\n",
       "      <th>Name</th>\n",
       "      <th>Sex</th>\n",
       "      <th>Age</th>\n",
       "      <th>SibSp</th>\n",
       "      <th>Parch</th>\n",
       "      <th>Ticket</th>\n",
       "      <th>Fare</th>\n",
       "      <th>Cabin</th>\n",
       "      <th>Embarked</th>\n",
       "    </tr>\n",
       "  </thead>\n",
       "  <tbody>\n",
       "    <tr>\n",
       "      <th>0</th>\n",
       "      <td>1</td>\n",
       "      <td>0</td>\n",
       "      <td>3</td>\n",
       "      <td>Braund, Mr. Owen Harris</td>\n",
       "      <td>male</td>\n",
       "      <td>22.0</td>\n",
       "      <td>1</td>\n",
       "      <td>0</td>\n",
       "      <td>A/5 21171</td>\n",
       "      <td>7.2500</td>\n",
       "      <td>NaN</td>\n",
       "      <td>S</td>\n",
       "    </tr>\n",
       "    <tr>\n",
       "      <th>1</th>\n",
       "      <td>2</td>\n",
       "      <td>1</td>\n",
       "      <td>1</td>\n",
       "      <td>Cumings, Mrs. John Bradley (Florence Briggs Th...</td>\n",
       "      <td>female</td>\n",
       "      <td>38.0</td>\n",
       "      <td>1</td>\n",
       "      <td>0</td>\n",
       "      <td>PC 17599</td>\n",
       "      <td>71.2833</td>\n",
       "      <td>C85</td>\n",
       "      <td>C</td>\n",
       "    </tr>\n",
       "    <tr>\n",
       "      <th>2</th>\n",
       "      <td>3</td>\n",
       "      <td>1</td>\n",
       "      <td>3</td>\n",
       "      <td>Heikkinen, Miss. Laina</td>\n",
       "      <td>female</td>\n",
       "      <td>26.0</td>\n",
       "      <td>0</td>\n",
       "      <td>0</td>\n",
       "      <td>STON/O2. 3101282</td>\n",
       "      <td>7.9250</td>\n",
       "      <td>NaN</td>\n",
       "      <td>S</td>\n",
       "    </tr>\n",
       "    <tr>\n",
       "      <th>3</th>\n",
       "      <td>4</td>\n",
       "      <td>1</td>\n",
       "      <td>1</td>\n",
       "      <td>Futrelle, Mrs. Jacques Heath (Lily May Peel)</td>\n",
       "      <td>female</td>\n",
       "      <td>35.0</td>\n",
       "      <td>1</td>\n",
       "      <td>0</td>\n",
       "      <td>113803</td>\n",
       "      <td>53.1000</td>\n",
       "      <td>C123</td>\n",
       "      <td>S</td>\n",
       "    </tr>\n",
       "    <tr>\n",
       "      <th>4</th>\n",
       "      <td>5</td>\n",
       "      <td>0</td>\n",
       "      <td>3</td>\n",
       "      <td>Allen, Mr. William Henry</td>\n",
       "      <td>male</td>\n",
       "      <td>35.0</td>\n",
       "      <td>0</td>\n",
       "      <td>0</td>\n",
       "      <td>373450</td>\n",
       "      <td>8.0500</td>\n",
       "      <td>NaN</td>\n",
       "      <td>S</td>\n",
       "    </tr>\n",
       "  </tbody>\n",
       "</table>\n",
       "</div>"
      ],
      "text/plain": [
       "   PassengerId  Survived  Pclass  \\\n",
       "0            1         0       3   \n",
       "1            2         1       1   \n",
       "2            3         1       3   \n",
       "3            4         1       1   \n",
       "4            5         0       3   \n",
       "\n",
       "                                                Name     Sex   Age  SibSp  \\\n",
       "0                            Braund, Mr. Owen Harris    male  22.0      1   \n",
       "1  Cumings, Mrs. John Bradley (Florence Briggs Th...  female  38.0      1   \n",
       "2                             Heikkinen, Miss. Laina  female  26.0      0   \n",
       "3       Futrelle, Mrs. Jacques Heath (Lily May Peel)  female  35.0      1   \n",
       "4                           Allen, Mr. William Henry    male  35.0      0   \n",
       "\n",
       "   Parch            Ticket     Fare Cabin Embarked  \n",
       "0      0         A/5 21171   7.2500   NaN        S  \n",
       "1      0          PC 17599  71.2833   C85        C  \n",
       "2      0  STON/O2. 3101282   7.9250   NaN        S  \n",
       "3      0            113803  53.1000  C123        S  \n",
       "4      0            373450   8.0500   NaN        S  "
      ]
     },
     "execution_count": 130,
     "metadata": {},
     "output_type": "execute_result"
    }
   ],
   "source": [
    "data.head() # let's check in with our data again"
   ]
  },
  {
   "cell_type": "code",
   "execution_count": 131,
   "metadata": {},
   "outputs": [
    {
     "data": {
      "text/plain": [
       "pandas.core.frame.DataFrame"
      ]
     },
     "execution_count": 131,
     "metadata": {},
     "output_type": "execute_result"
    }
   ],
   "source": [
    "type(data) # note that it's being stored as a dataframe..."
   ]
  },
  {
   "cell_type": "code",
   "execution_count": 132,
   "metadata": {},
   "outputs": [
    {
     "name": "stdout",
     "output_type": "stream",
     "text": [
      "None\n"
     ]
    }
   ],
   "source": [
    "print(data.index.name) # and there is no set index"
   ]
  },
  {
   "cell_type": "code",
   "execution_count": 133,
   "metadata": {},
   "outputs": [
    {
     "data": {
      "text/html": [
       "<div>\n",
       "<style scoped>\n",
       "    .dataframe tbody tr th:only-of-type {\n",
       "        vertical-align: middle;\n",
       "    }\n",
       "\n",
       "    .dataframe tbody tr th {\n",
       "        vertical-align: top;\n",
       "    }\n",
       "\n",
       "    .dataframe thead th {\n",
       "        text-align: right;\n",
       "    }\n",
       "</style>\n",
       "<table border=\"1\" class=\"dataframe\">\n",
       "  <thead>\n",
       "    <tr style=\"text-align: right;\">\n",
       "      <th>Survived</th>\n",
       "      <th>0</th>\n",
       "      <th>1</th>\n",
       "      <th>Total</th>\n",
       "    </tr>\n",
       "    <tr>\n",
       "      <th>Pclass</th>\n",
       "      <th></th>\n",
       "      <th></th>\n",
       "      <th></th>\n",
       "    </tr>\n",
       "  </thead>\n",
       "  <tbody>\n",
       "    <tr>\n",
       "      <th>1</th>\n",
       "      <td>80</td>\n",
       "      <td>136</td>\n",
       "      <td>216</td>\n",
       "    </tr>\n",
       "    <tr>\n",
       "      <th>2</th>\n",
       "      <td>97</td>\n",
       "      <td>87</td>\n",
       "      <td>184</td>\n",
       "    </tr>\n",
       "    <tr>\n",
       "      <th>3</th>\n",
       "      <td>372</td>\n",
       "      <td>119</td>\n",
       "      <td>491</td>\n",
       "    </tr>\n",
       "    <tr>\n",
       "      <th>Total</th>\n",
       "      <td>549</td>\n",
       "      <td>342</td>\n",
       "      <td>891</td>\n",
       "    </tr>\n",
       "  </tbody>\n",
       "</table>\n",
       "</div>"
      ],
      "text/plain": [
       "Survived    0    1  Total\n",
       "Pclass                   \n",
       "1          80  136    216\n",
       "2          97   87    184\n",
       "3         372  119    491\n",
       "Total     549  342    891"
      ]
     },
     "execution_count": 133,
     "metadata": {},
     "output_type": "execute_result"
    }
   ],
   "source": [
    "survivor_rate = pd.crosstab(data['Pclass'],data['Survived'],margins=True,margins_name='Total')\n",
    "\n",
    "# let's see the surviers per passenger class\n",
    "\n",
    "survivor_rate"
   ]
  },
  {
   "cell_type": "code",
   "execution_count": 134,
   "metadata": {},
   "outputs": [
    {
     "data": {
      "text/plain": [
       "<matplotlib.axes._subplots.AxesSubplot at 0x1a2434bb00>"
      ]
     },
     "execution_count": 134,
     "metadata": {},
     "output_type": "execute_result"
    },
    {
     "data": {
      "image/png": "[encoded data removed]",
      "text/plain": [
       "<Figure size 720x576 with 1 Axes>"
      ]
     },
     "metadata": {
      "needs_background": "light"
     },
     "output_type": "display_data"
    }
   ],
   "source": [
    "survivor_rate[:3].plot(kind='bar',figsize=(10,8))\n",
    "\n",
    "# here we can do a simple bar plot from our newly created dataframe\n",
    "# the [:3] is just so that we don't display the \"Total\"; try without the [:3] to see why"
   ]
  },
  {
   "cell_type": "code",
   "execution_count": 150,
   "metadata": {
    "scrolled": true
   },
   "outputs": [
    {
     "data": {
      "text/plain": [
       "<matplotlib.axes._subplots.AxesSubplot at 0x1a265a4160>"
      ]
     },
     "execution_count": 150,
     "metadata": {},
     "output_type": "execute_result"
    },
    {
     "data": {
      "image/png": "[encoded data removed]",
      "text/plain": [
       "<Figure size 2880x720 with 1 Axes>"
      ]
     },
     "metadata": {},
     "output_type": "display_data"
    }
   ],
   "source": [
    "sns.set(rc={'figure.figsize':(40,10)})\n",
    "sns.barplot(x='Pclass',y='Survived',data=data)"
   ]
  },
  {
   "cell_type": "code",
   "execution_count": 181,
   "metadata": {},
   "outputs": [
    {
     "data": {
      "text/plain": [
       "<matplotlib.axes._subplots.AxesSubplot at 0x1b45e5b6a0>"
      ]
     },
     "execution_count": 181,
     "metadata": {},
     "output_type": "execute_result"
    },
    {
     "data": {
      "image/png": "[encoded data removed]",
      "text/plain": [
       "<Figure size 864x648 with 1 Axes>"
      ]
     },
     "metadata": {},
     "output_type": "display_data"
    }
   ],
   "source": [
    "sns.countplot(x='Pclass',hue='Survived',data=data)"
   ]
  },
  {
   "cell_type": "markdown",
   "metadata": {},
   "source": [
    "## Histograms"
   ]
  },
  {
   "cell_type": "code",
   "execution_count": 151,
   "metadata": {},
   "outputs": [
    {
     "data": {
      "text/plain": [
       "Text(0, 0.5, 'Frequency')"
      ]
     },
     "execution_count": 151,
     "metadata": {},
     "output_type": "execute_result"
    },
    {
     "data": {
      "image/png": "[encoded data removed]",
      "text/plain": [
       "<Figure size 864x648 with 1 Axes>"
      ]
     },
     "metadata": {},
     "output_type": "display_data"
    }
   ],
   "source": [
    "data['Pclass'].hist(bins=10,figsize=(12,9))\n",
    "plt.xlabel(\"Passenger Class\",fontsize=18)\n",
    "plt.ylabel(\"Frequency\",fontsize=18)"
   ]
  },
  {
   "cell_type": "code",
   "execution_count": 152,
   "metadata": {},
   "outputs": [
    {
     "data": {
      "text/plain": [
       "<matplotlib.axes._subplots.AxesSubplot at 0x1a1dafada0>"
      ]
     },
     "execution_count": 152,
     "metadata": {},
     "output_type": "execute_result"
    },
    {
     "data": {
      "image/png": "[encoded data removed]",
      "text/plain": [
       "<Figure size 864x648 with 1 Axes>"
      ]
     },
     "metadata": {},
     "output_type": "display_data"
    }
   ],
   "source": [
    "sns.set(rc={'figure.figsize':(12,9)})\n",
    "sns.countplot(x='Pclass',data=data)"
   ]
  },
  {
   "cell_type": "markdown",
   "metadata": {},
   "source": [
    "## Scatterplot"
   ]
  },
  {
   "cell_type": "code",
   "execution_count": 155,
   "metadata": {},
   "outputs": [
    {
     "data": {
      "text/plain": [
       "<matplotlib.axes._subplots.AxesSubplot at 0x1a267fc9b0>"
      ]
     },
     "execution_count": 155,
     "metadata": {},
     "output_type": "execute_result"
    },
    {
     "data": {
      "image/png": "[encoded data removed]",
      "text/plain": [
       "<Figure size 864x648 with 1 Axes>"
      ]
     },
     "metadata": {},
     "output_type": "display_data"
    }
   ],
   "source": [
    "sns.scatterplot(x=\"Age\",y=\"Fare\",data=data)"
   ]
  },
  {
   "cell_type": "markdown",
   "metadata": {},
   "source": [
    "## Density Plot\n",
    "\n",
    "### *A density plot visualizes the distribution of data over a continuous interval or time period. Unlike histograms, there are no bins and thus it allows for a smoother distribution which let's a viewer more easily see the underlying shape of the distribution.*"
   ]
  },
  {
   "cell_type": "code",
   "execution_count": 157,
   "metadata": {},
   "outputs": [
    {
     "name": "stderr",
     "output_type": "stream",
     "text": [
      "/Users/siegmanA/anaconda3/lib/python3.7/site-packages/statsmodels/nonparametric/kde.py:447: RuntimeWarning: invalid value encountered in greater\n",
      "  X = X[np.logical_and(X > clip[0], X < clip[1])] # won't work for two columns.\n",
      "/Users/siegmanA/anaconda3/lib/python3.7/site-packages/statsmodels/nonparametric/kde.py:447: RuntimeWarning: invalid value encountered in less\n",
      "  X = X[np.logical_and(X > clip[0], X < clip[1])] # won't work for two columns.\n"
     ]
    },
    {
     "data": {
      "text/plain": [
       "<matplotlib.axes._subplots.AxesSubplot at 0x1a26a6fda0>"
      ]
     },
     "execution_count": 157,
     "metadata": {},
     "output_type": "execute_result"
    },
    {
     "data": {
      "image/png": "[encoded data removed]",
      "text/plain": [
       "<Figure size 864x648 with 1 Axes>"
      ]
     },
     "metadata": {},
     "output_type": "display_data"
    }
   ],
   "source": [
    "sns.distplot(data['Age'], hist=False, rug=True)"
   ]
  },
  {
   "cell_type": "markdown",
   "metadata": {},
   "source": [
    "## Boxplot\n",
    "\n",
    "### *A boxplot is a standard method of displaying the distribution of data, highlighting the minimum, first quartile, median, third quartile, and maximum value of a set. It's an excellent resource when you are looking for skew or outliers in your data.*"
   ]
  },
  {
   "cell_type": "code",
   "execution_count": 158,
   "metadata": {},
   "outputs": [
    {
     "data": {
      "text/plain": [
       "<matplotlib.axes._subplots.AxesSubplot at 0x1a26ce0ac8>"
      ]
     },
     "execution_count": 158,
     "metadata": {},
     "output_type": "execute_result"
    },
    {
     "data": {
      "image/png": "[encoded data removed]",
      "text/plain": [
       "<Figure size 864x648 with 1 Axes>"
      ]
     },
     "metadata": {},
     "output_type": "display_data"
    }
   ],
   "source": [
    "sns.boxplot(x=\"Age\", y=\"Sex\", data=data)"
   ]
  },
  {
   "cell_type": "markdown",
   "metadata": {},
   "source": [
    "## Heatmaps"
   ]
  },
  {
   "cell_type": "code",
   "execution_count": 187,
   "metadata": {
    "scrolled": true
   },
   "outputs": [],
   "source": [
    "data2 = data[['Age','Fare','Survived','Pclass']]"
   ]
  },
  {
   "cell_type": "code",
   "execution_count": 188,
   "metadata": {},
   "outputs": [
    {
     "data": {
      "text/plain": [
       "<matplotlib.axes._subplots.AxesSubplot at 0x1b45ec2ba8>"
      ]
     },
     "execution_count": 188,
     "metadata": {},
     "output_type": "execute_result"
    },
    {
     "data": {
      "image/png": "[encoded data removed]",
      "text/plain": [
       "<Figure size 864x648 with 2 Axes>"
      ]
     },
     "metadata": {},
     "output_type": "display_data"
    }
   ],
   "source": [
    "sns.heatmap(data2.astype(float).corr(),annot=True)"
   ]
  }
 ],
 "metadata": {
  "kernelspec": {
   "display_name": "Python 3",
   "language": "python",
   "name": "python3"
  },
  "language_info": {
   "codemirror_mode": {
    "name": "ipython",
    "version": 3
   },
   "file_extension": ".py",
   "mimetype": "text/x-python",
   "name": "python",
   "nbconvert_exporter": "python",
   "pygments_lexer": "ipython3",
   "version": "3.7.3"
  }
 },
 "nbformat": 4,
 "nbformat_minor": 2
}
