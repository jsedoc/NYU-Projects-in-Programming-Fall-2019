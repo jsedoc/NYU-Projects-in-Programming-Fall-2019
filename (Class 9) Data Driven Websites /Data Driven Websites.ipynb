{
 "cells": [
  {
   "cell_type": "markdown",
   "metadata": {},
   "source": [
    "# All material ©2019, Alex Siegman"
   ]
  },
  {
   "cell_type": "markdown",
   "metadata": {},
   "source": [
    "---"
   ]
  },
  {
   "cell_type": "markdown",
   "metadata": {},
   "source": [
    "## Flask\n",
    "\n",
    "### This week we are going to delve into Flask – a web framework (technically a micro-framework). Like everything else in this course, to best understand, we're going to dive right in. \n",
    "\n",
    "### Let's take our \"Hello, World!\" API from last class and add a bit of complexity in the form of some formatting. In particular, we'll add some HTML (Hyper-Text Markup Language) – the standard markup language for any document meant to be displayed by a web browser. "
   ]
  },
  {
   "cell_type": "markdown",
   "metadata": {},
   "source": [
    "### First, we need to create an HTML file that our Flask app can call. In your terminal: \n",
    "\n",
    "1. \\> {navigate to desired directory}\n",
    "2. \\> mkdir templates\n",
    "3. \\> cd templates\n",
    "4. \\> touch index.html"
   ]
  },
  {
   "cell_type": "markdown",
   "metadata": {},
   "source": [
    "<!DOCTYPE html> <!-- this is how you comment in HTML --> \n",
    "<html>\n",
    "<head> <!-- let's open a header... --> \n",
    "  <title>Class 9 – Data Driven Websites</title> <!-- and add our title --> \n",
    "</head> <!-- close out the header --> \n",
    "<body>\n",
    "  <h1>Hello, World!</h1> \n",
    "  <hr>\n",
    "  <div style=\"color: red\"> <!-- adding some color --> \n",
    "    <strong>Here's some color!</strong>\n",
    "  </div>\n",
    "</body>\n",
    "</html>"
   ]
  },
  {
   "cell_type": "markdown",
   "metadata": {},
   "source": [
    "### Then, let's create a new .py file to host our application, where we'll point to this index.html file. In your terminal: \n",
    "\n",
    "\n",
    "1. \\> {navigate to desired directory}\n",
    "2. \\> mkdir app\n",
    "3. \\> cd app\n",
    "4. \\> touch helloAdvanced.py"
   ]
  },
  {
   "cell_type": "code",
   "execution_count": null,
   "metadata": {},
   "outputs": [],
   "source": [
    "from flask import Flask, render_template\n",
    "from datetime import * # the '*' means \"import everything from the datetime library\"\n",
    "\n",
    "app = Flask(__name__) \n",
    "\n",
    "visitor_counter = 0 # set a variable used to track visitors to our URL\n",
    "\n",
    "def get_time_message(): # a new function called get_time_message\n",
    "    datetime.now().strftime('%Y-%m-%d %H:%M:%S') # get the current time from datetime\n",
    "    date = datetime.now().strftime('%Y-%m-%d') # get today's date from the current time \n",
    "    time = datetime.now().strftime('%H:%M:%S') # get the current time from the current time \n",
    "    message = \"The date is {d} and the time is {t}\" # create the message telling us the current date and time \n",
    "    return message.format(d=date, t=time) # return our message \n",
    "\n",
    "@app.route(\"/\") # this ultimately means that when you visit https://localhost/ the \"home\" function below will be called\n",
    "def home(): # define a new function called \"home\"\n",
    "    message = get_time_message() # call the get_time_message function defined above\n",
    "    return render_template(\"index.html\")\n",
    "\n",
    "@app.route(\"/hello\") # this ultiamtely means that when you visit https://localhost/hello the \"hello_visitor\" function below will be called\n",
    "def hello_visitor(): # define a new function called \"hello_visitor\"\n",
    "    global visitor_counter # 'global' variable gets updated each time someone visits /hello\n",
    "    visitor_counter += 1 # each time tis function is called, we count as a new visitor\n",
    "    return \"<H1> Hello! You are visitor #{i}</H1>\".format(i=visitor_counter) # return our desired message\n",
    "\n",
    "app.run(host='0.0.0.0',port=5000,debug=True) # this forces flask to run on your computer's IP address"
   ]
  },
  {
   "cell_type": "markdown",
   "metadata": {},
   "source": [
    "### To see the output, head to http://0.0.0.0:5000/"
   ]
  },
  {
   "cell_type": "markdown",
   "metadata": {},
   "source": [
    "## Jinja Templates\n",
    "\n",
    "### We can also leverage the Jinja templating language witin our Flask app:"
   ]
  },
  {
   "cell_type": "code",
   "execution_count": null,
   "metadata": {},
   "outputs": [],
   "source": [
    "!pip install Jinja2"
   ]
  },
  {
   "cell_type": "markdown",
   "metadata": {},
   "source": [
    "### Let's make some changes to our index.html file:"
   ]
  },
  {
   "cell_type": "markdown",
   "metadata": {},
   "source": [
    "<!DOCTYPE html>\n",
    "<html>\n",
    "<head> \n",
    "  <title>Class 9 – Data Driven Websites</title> \n",
    "</head>\n",
    "<body>\n",
    "  <h1>Hello {{ username }}! Today is {{ today }}</h1> <!-- we are going to add variables username and today here --> \n",
    "                                                      <!-- the {{ }} is a Jinja-specific syntax --> \n",
    "  <hr>\n",
    "  <div style=\"color: red\"> \n",
    "    <strong>Here's some color!</strong>\n",
    "  </div>\n",
    "</body>\n",
    "</html>\n",
    "\n",
    "<!-- note that when you copy this into your index.html file, you must take the comments out -->"
   ]
  },
  {
   "cell_type": "markdown",
   "metadata": {},
   "source": [
    "### And to our helloAdvanced.py file:"
   ]
  },
  {
   "cell_type": "code",
   "execution_count": null,
   "metadata": {},
   "outputs": [],
   "source": [
    "from flask import Flask, render_template \n",
    "from datetime import *\n",
    "\n",
    "app = Flask(__name__)\n",
    "\n",
    "visitor_counter = 0 # set a variable used to track visitors to our URL\n",
    "\n",
    "def get_time_message():\n",
    "    datetime.now().strftime('%Y-%m-%d %H:%M:%S')\n",
    "    date = datetime.now().strftime('%Y-%m-%d')\n",
    "    time = datetime.now().strftime('%H:%M:%S')\n",
    "    message = \"The date is {d} and the time is {t}\"\n",
    "    return message.format(d=date, t=time)\n",
    "\n",
    "@app.route(\"/\")\n",
    "def home():\n",
    "    message = get_time_message()\n",
    "    return render_template(\"index.html\",username=\"Alex Siegman\",today=message) # here is where we call our variables\n",
    "\n",
    "@app.route(\"/hello\")\n",
    "def hello_visitor():\n",
    "    global visitor_counter # global gets updated each time someone visits /hello\n",
    "    visitor_counter += 1\n",
    "    return \"<H1> Hello! You are visitor #{i}</H1>\".format(i=visitor_counter)\n",
    "\n",
    "app.run(host='0.0.0.0',port=5000,debug=True)"
   ]
  },
  {
   "cell_type": "markdown",
   "metadata": {},
   "source": [
    "## Jinja Iterators\n",
    "\n",
    "### We can also leverage what is known as a \"Jinja iterator\" – basically allowing us to render if / else statements in our template. For example, let's alter helloAdvanced.py file to include: "
   ]
  },
  {
   "cell_type": "code",
   "execution_count": null,
   "metadata": {},
   "outputs": [],
   "source": [
    "from flask import Flask, render_template \n",
    "from datetime import *\n",
    "\n",
    "app = Flask(__name__)\n",
    "\n",
    "visitor_counter = 0 # set a variable used to track visitors to our URL\n",
    "\n",
    "def get_time_message():\n",
    "    datetime.now().strftime('%Y-%m-%d %H:%M:%S')\n",
    "    date = datetime.now().strftime('%Y-%m-%d')\n",
    "    time = datetime.now().strftime('%H:%M:%S')\n",
    "    message = \"The date is {d} and the time is {t}\"\n",
    "    return message.format(d=date, t=time)\n",
    "\n",
    "@app.route(\"/\")\n",
    "def home():\n",
    "    message = get_time_message()\n",
    "    return render_template(\"index.html\",username=\"Alex Siegman\",today=message) # here is where we call our variables\n",
    "\n",
    "@app.route(\"/hello\")\n",
    "def hello_visitor():\n",
    "    global visitor_counter # global gets updated each time someone visits /hello\n",
    "    visitor_counter += 1\n",
    "    return \"<H1> Hello! You are visitor #{i}</H1>\".format(i=visitor_counter)\n",
    "\n",
    "@app.route(\"/colleagues\")\n",
    "def colleagues(): \n",
    "    colleagues = [\n",
    "        {\"name\": \"Alex Siegman\", \"hometown\": \"Tampa\"},\n",
    "        {\"name\": \"Chloe Stein\", \"hometown\":  \"Hillsdale\"},\n",
    "        {\"name\": \"John Doe\", \"hometown\": \"New York\"}\n",
    "    ]\n",
    "    return render_template(\"colleagues.html\", title=\"My Colleagues\",colleagues=colleagues)\n",
    "\n",
    "app.run(host='0.0.0.0',port=5000,debug=True)"
   ]
  },
  {
   "cell_type": "markdown",
   "metadata": {},
   "source": [
    "### We then create a file called colleagues.html in the templates folder and add: "
   ]
  },
  {
   "cell_type": "markdown",
   "metadata": {},
   "source": [
    "<body>\n",
    "    <h2>{{ title }}</h2>\n",
    "    <ul>\n",
    "        {% for i in colleagues %}\n",
    "            <li>\n",
    "                {% if i.hometown == Tampa %}\n",
    "                    <u>Name: {{ i.name }}; hometown: {{ i.hometown }}</u>\n",
    "                {% else %}\n",
    "                    Name: {{ i.name }}; hometown: {{ i.hometown }}\n",
    "                {% endif %}\n",
    "            </li>\n",
    "        {% endfor %}\n",
    "    </ul>\n",
    "</body>"
   ]
  },
  {
   "cell_type": "markdown",
   "metadata": {},
   "source": [
    "### To see the output, head to http://0.0.0.0:5000/colleagues"
   ]
  },
  {
   "cell_type": "markdown",
   "metadata": {},
   "source": [
    "## So far so good. But what happens if we want to call upon a SQL database, such as our Citibike database from Week 1, and display it in a Flask application? "
   ]
  },
  {
   "cell_type": "code",
   "execution_count": null,
   "metadata": {},
   "outputs": [],
   "source": [
    "# in helloAdvanced.py: \n",
    "\n",
    "from flask import Flask, render_template\n",
    "from sqlalchemy import create_engine\n",
    "\n",
    "app = Flask(__name__)\n",
    "\n",
    "@app.route('/citibike')\n",
    "def citibike_stations():\n",
    "\n",
    "    conn_string = 'mysql://{user}:{password}@{host}/{db}?charset={encoding}'.format(\n",
    "        host = 'localhost', \n",
    "        user = 'siegmanA',\n",
    "        db = 'citibike',\n",
    "        password = 'password',\n",
    "        encoding = 'utf8mb4')\n",
    "\n",
    "    engine = create_engine(conn_string)\n",
    "    con = engine.connect()\n",
    "    stations = con.execute(\"SELECT DISTINCT station_id AS station_id, is_renting, num_bikes_available FROM StationInfo\")\n",
    "    con.close()\n",
    "\n",
    "    return render_template('citibike.html', stations=stations)\n",
    "\n",
    "app.run(host='0.0.0.0', port=5000, debug=True)"
   ]
  },
  {
   "cell_type": "markdown",
   "metadata": {},
   "source": [
    "### We then create a file called citibike.html in the templates folder and add: "
   ]
  },
  {
   "cell_type": "code",
   "execution_count": null,
   "metadata": {},
   "outputs": [],
   "source": [
    "<!DOCTYPE html>\n",
    "<html>\n",
    "<body>   \n",
    "    <table>\n",
    "        <thead>\n",
    "            <tr>    \n",
    "                <th>Station ID</th>\n",
    "                <th>Is Renting</th>\n",
    "                <th>Capacity</th>\n",
    "            </tr>\n",
    "        </thead>\n",
    "        <tbody>\n",
    "            {% for station in stations %}    \n",
    "                <tr>\n",
    "                    <td>{{ station.station_id }}</td>\n",
    "                    <td>{{ station.is_renting }}</td>\n",
    "                    <td>{{ station.num_bikes_available }}</td>\n",
    "                </tr>\n",
    "            {% endfor %}\n",
    "         </tbody>\n",
    "    </table>\n",
    "</body>\n",
    "</html>"
   ]
  },
  {
   "cell_type": "markdown",
   "metadata": {},
   "source": [
    "## Querying via Flask\n",
    "\n",
    "### Last but not least, what happens if we want to query from our Citibike database? \n",
    "\n",
    "### First, we need to create a new function that accepts the station_id as a parameter; our code will then query the databse for that parameter (station_id) and return the station status. \n",
    "\n",
    "### In helloAdvanced.py, add:"
   ]
  },
  {
   "cell_type": "code",
   "execution_count": null,
   "metadata": {},
   "outputs": [],
   "source": [
    "from flask import Flask, render_template, request\n",
    "from sqlalchemy import create_engine\n",
    "\n",
    "app = Flask(__name__)\n",
    "\n",
    "@app.route('/station_status')\n",
    "\n",
    "def station_status():\n",
    "\n",
    "    station_id = int(request.args.get('station_id'))\n",
    "\n",
    "    conn_string = 'mysql://{user}:{password}@{host}/{db}?charset={encoding}'.format(\n",
    "        host = 'localhost',\n",
    "        user = 'siegmanA',\n",
    "        db = 'citibike',\n",
    "        password = 'password',\n",
    "        encoding = 'utf8mb4')\n",
    "\n",
    "    engine = create_engine(conn_string)\n",
    "    con = engine.connect()\n",
    "    query = '''SELECT is_renting,\n",
    "                      num_bikes_available,\n",
    "                      num_bikes_disabled,\n",
    "                      num_docks_available,\n",
    "                      num_docks_disabled\n",
    "               FROM StationInfo\n",
    "               WHERE station_id = %s'''\n",
    "    status = con.execute(query, (station_id,))\n",
    "\n",
    "    con.close()\n",
    "\n",
    "    return render_template('station_status.html', station_id = station_id, statuses=status)\n",
    "\n",
    "app.run(host='0.0.0.0', port=5000, debug=True)"
   ]
  },
  {
   "cell_type": "markdown",
   "metadata": {},
   "source": [
    "### We'll also create a file called station_status.html in our templates folder: "
   ]
  },
  {
   "cell_type": "code",
   "execution_count": null,
   "metadata": {},
   "outputs": [],
   "source": [
    "<!DOCTYPE html>\n",
    "<html>\n",
    "<body> \n",
    "    <table>\n",
    "        <thead>\n",
    "            <tr>\n",
    "                    <th> Is Renting </th>\n",
    "                    <th> Bikes available </th>\n",
    "                    <th> Bikes Disabled </th>\n",
    "                    <th> Docks Available </th>\n",
    "                    <th> DOcks Disabled </th>\n",
    "            </tr>\n",
    "        </thead>\n",
    "        <tbody>\n",
    "            {% for status in statuses %}\n",
    "                <tr>\n",
    "                    <td>{{ status.is_renting }}</td>\n",
    "                    <td>{{ status.num_bikes_available }}</td>\n",
    "                    <td>{{ status.num_bikes_disabled }}</td>\n",
    "                    <td>{{ status.num_docks_available }}</td>\n",
    "                    <td>{{ status.num_docks_disabled }}</td>\n",
    "                </tr>\n",
    "            {% endfor %}\n",
    "         </tbody>\n",
    "    </table>\n",
    "</body>\n",
    "</html>"
   ]
  },
  {
   "cell_type": "code",
   "execution_count": null,
   "metadata": {},
   "outputs": [],
   "source": [
    "# then try localhost/station_status?station_id=85"
   ]
  }
 ],
 "metadata": {
  "kernelspec": {
   "display_name": "Python 3",
   "language": "python",
   "name": "python3"
  },
  "language_info": {
   "codemirror_mode": {
    "name": "ipython",
    "version": 3
   },
   "file_extension": ".py",
   "mimetype": "text/x-python",
   "name": "python",
   "nbconvert_exporter": "python",
   "pygments_lexer": "ipython3",
   "version": "3.7.3"
  }
 },
 "nbformat": 4,
 "nbformat_minor": 2
}
