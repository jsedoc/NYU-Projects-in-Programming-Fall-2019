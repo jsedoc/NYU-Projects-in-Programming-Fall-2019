{
 "cells": [
  {
   "cell_type": "markdown",
   "metadata": {},
   "source": [
    "# Data Driven Websites with Flask\n"
   ]
  },
  {
   "cell_type": "markdown",
   "metadata": {},
   "source": [
    "---"
   ]
  },
  {
   "cell_type": "markdown",
   "metadata": {},
   "source": [
    "### Let's take our weather API from last class and add a bit of complexity in the form of some formatting. In particular, we'll add some HTML (Hyper-Text Markup Language) – the standard markup language for any document meant to be displayed by a web browser. "
   ]
  },
  {
   "cell_type": "code",
   "execution_count": null,
   "metadata": {},
   "outputs": [],
   "source": [
    "# let's make sure we have our app up and running"
   ]
  },
  {
   "cell_type": "markdown",
   "metadata": {},
   "source": [
    "1. Navigate to desired directory\n",
    "2. `mkdir library_app`\n",
    "3. `cd library_app`\n",
    "4. `touch library.py`"
   ]
  },
  {
   "cell_type": "markdown",
   "metadata": {},
   "source": [
    "### In library.py:\n",
    "\n",
    "```python \n",
    "\n",
    "from flask import Flask\n",
    "\n",
    "app = Flask(__name__)\n",
    "\n",
    "# begin our Horror API\n",
    "\n",
    "@app.route('/horror')\n",
    "def horror():\n",
    "\n",
    "    import requests\n",
    "\n",
    "    url = 'http://openlibrary.org/subjects/horror.json'\n",
    "\n",
    "    parameters = {\n",
    "        'published_in'   : 2000-2010\n",
    "    }\n",
    "\n",
    "    resp = requests.get(url, params=parameters)\n",
    "\n",
    "    data = resp.json()\n",
    "\n",
    "    titles = set()\n",
    "\n",
    "    for i in range(0, len(data)):\n",
    "        title = data['works'][i]['title']\n",
    "        titles.add(title)\n",
    "\n",
    "    return 'Titles: {}'.format(sorted(titles))\n",
    "\n",
    "app.run(host='0.0.0.0', port=5000, debug=True) # anyone can connect, and we're running on port 5000\n",
    "    ```"
   ]
  },
  {
   "cell_type": "markdown",
   "metadata": {},
   "source": [
    "5. `python library.py`"
   ]
  },
  {
   "cell_type": "markdown",
   "metadata": {},
   "source": [
    "### Great, now if we go to http://0.0.0.0:5000/horror we'll see our app is up and running. "
   ]
  },
  {
   "cell_type": "markdown",
   "metadata": {},
   "source": [
    "---"
   ]
  },
  {
   "cell_type": "markdown",
   "metadata": {},
   "source": [
    "### So far so good. Let's get a bit fancier, though, and add a personalized welcome message to each user that visits the site. In library.py, let's add the following: \n",
    "\n",
    "```python \n",
    "\n",
    "from datetime import * \n",
    "\n",
    "... # keep your /horror route here, but add the '/' below\n",
    "\n",
    "@app.route(\"/\")\n",
    "def hello_visitor():\n",
    "    datetime.now().strftime('%Y-%m-%d %H:%M:%S') # get the current time from datetime\n",
    "    date = datetime.now().strftime('%Y-%m-%d') # get today's date from the current time \n",
    "    time = datetime.now().strftime('%H:%M:%S') # get the current time from the current time \n",
    "    message = \"The date is {d} and the time is {t}\" # create the message telling us the current date and time \n",
    "    return message.format(d=date, t=time) # return our message \n",
    "\n",
    "... # keep the 'app.run' info as well\n",
    "\n",
    "```"
   ]
  },
  {
   "cell_type": "markdown",
   "metadata": {},
   "source": [
    "### Great, now if we go to http://0.0.0.0:5000/ we'll see our message. "
   ]
  },
  {
   "cell_type": "markdown",
   "metadata": {},
   "source": [
    "---"
   ]
  },
  {
   "cell_type": "markdown",
   "metadata": {},
   "source": [
    "### In order to prettify (add HTML) to our date and time message, we create a new HTML file in our directory. "
   ]
  },
  {
   "cell_type": "markdown",
   "metadata": {},
   "source": [
    "1. Navigate to our library_app directory\n",
    "2. `mkdir templates`\n",
    "3. `cd templates`\n",
    "4. `touch index.html`"
   ]
  },
  {
   "cell_type": "markdown",
   "metadata": {},
   "source": [
    "### In index.html, we'll specify how we want everything to look: \n",
    "\n",
    "```html \n",
    "\n",
    "<!DOCTYPE html>\n",
    "<html>\n",
    "<head>\n",
    "    <title>Welcome Message</title>\n",
    "</head>\n",
    "<body>\n",
    "    <div style=\"color: purple\">\n",
    "    <h1>Hello World! Here's some fun info! {{ message }}</h1>\n",
    "        <strong>Below an image is displayed</strong>\n",
    "        <img width=\"300\" src=\"https://upload.wikimedia.org/wikipedia/en/thumb/5/58/NYU_logo.svg/1280px-NYU_logo.svg.png\"/>\n",
    "    </div>\n",
    "</body>\n",
    "</html> \n",
    "\n",
    "```\n",
    "\n",
    "### And, in order to specify that we want our app to leverage this template, we add the following to library.py:\n",
    "\n",
    "```python \n",
    "\n",
    "from Flask import render_template\n",
    "\n",
    "# ...\n",
    "\n",
    "@app.route(\"/\")\n",
    "def hello_visitor():\n",
    "    datetime.now().strftime('%Y-%m-%d %H:%M:%S') # get the current time from datetime\n",
    "    date = datetime.now().strftime('%Y-%m-%d') # get today's date from the current time\n",
    "    time = datetime.now().strftime('%H:%M:%S') # get the current time from the current time\n",
    "    message = \"The date is {} and the time is {}\".format(date, time) # create the message\n",
    "    return render_template(\"index.html\",message=message) # return our message\n",
    "\n",
    "```"
   ]
  },
  {
   "cell_type": "markdown",
   "metadata": {},
   "source": [
    "---"
   ]
  },
  {
   "cell_type": "markdown",
   "metadata": {},
   "source": [
    "## Exercise 1\n",
    "\n",
    "### Looking back to last week, adjust your library Flask app so that rather than being greated by the date, time, and visitor count, a visitor is told their location, the weather, and temperature. "
   ]
  },
  {
   "cell_type": "code",
   "execution_count": null,
   "metadata": {},
   "outputs": [],
   "source": [
    "# your code here"
   ]
  },
  {
   "cell_type": "markdown",
   "metadata": {},
   "source": [
    "```python \n",
    "\n",
    "@app.route(\"/\")\n",
    "def hello_visitor(): \n",
    "    \n",
    "    import requests\n",
    "    \n",
    "    geoip_url = 'http://api.ipstack.com/check?access_key=dd4cbbbe9d6b9f2709e5f0533644e547'\n",
    "    resp = requests.get(geoip_url)\n",
    "    data = resp.json()\n",
    "    lon = data[\"longitude\"]\n",
    "    lat = data[\"latitude\"]\n",
    "\n",
    "    openweathermap_url = \"http://api.openweathermap.org/data/2.5/weather\"\n",
    "    parameters = {\n",
    "        'lat'   : str(lat),\n",
    "        'lon'   : str(lon),\n",
    "        'units' : 'imperial',\n",
    "        'mode'  : 'json',\n",
    "        'appid' : 'ffb7b9808e07c9135bdcc7d1e867253d'\n",
    "    }\n",
    "\n",
    "    resp = requests.get(openweathermap_url, params=parameters)\n",
    "    data = resp.json()\n",
    "\n",
    "    location = data['name']\n",
    "    weather = data['weather'][0]['description']\n",
    "    temperature = data['main']['temp']\n",
    "\n",
    "    message = \"Your Location: {}, Your Weather: {}, Your Temp: {}\".format(location, weather, temperature)\n",
    "    \n",
    "    return render_template(\"index.html\", message=message)\n",
    "\n",
    "```"
   ]
  },
  {
   "cell_type": "markdown",
   "metadata": {},
   "source": [
    "---"
   ]
  },
  {
   "cell_type": "markdown",
   "metadata": {},
   "source": [
    "## Jinja Iterators\n",
    "\n",
    "### We can also leverage what is known as a \"Jinja iterator\" – basically allowing us to render if / else statements in our template. For example, let's alter index.html file:\n",
    "\n",
    "``` html\n",
    "\n",
    "<!DOCTYPE html>\n",
    "<html>\n",
    "    \n",
    "```\n",
    "\n",
    "`{% if temperature <= 32 %}`\n",
    "\n",
    "``` html\n",
    "\n",
    "<div style = \"color: blue\">\n",
    "<body>\n",
    "  <h1>Hello! {{ message }}. It is below freezing outside, bring a jacket!</h1>\n",
    "</body>\n",
    "</div>\n",
    "\n",
    "```\n",
    "\n",
    "`{% endif %}`\n",
    "\n",
    "`{% if temperature > 32 %}`\n",
    "\n",
    "``` html\n",
    "\n",
    "<div style = \"color: red\">\n",
    "<body>\n",
    "  <h1>Hello! {{ message }}. It is warm outside, awesome!</h1>\n",
    "</body>\n",
    "</div>\n",
    "\n",
    "```\n",
    "\n",
    "`{% endif %}`\n",
    "\n",
    "```  \n",
    "</html> \n",
    "\n",
    "```\n",
    "\n",
    "### We also need to make an addition to our library.py file:\n",
    "\n",
    "```python \n",
    "\n",
    "    # ... \n",
    "    \n",
    "    location = data['name']\n",
    "    weather = data['weather'][0]['description']\n",
    "    temperature = data['main']['temp']\n",
    "\n",
    "    message = \"Your Location: {}, Your Weather: {}, Your Temp: {}\".format(location, weather, temperature)\n",
    "    \n",
    "    return render_template(\"index.html\", message=message, location=location, weather=weather, temperature=temperature)\n",
    "\n",
    "```"
   ]
  },
  {
   "cell_type": "markdown",
   "metadata": {},
   "source": [
    "---"
   ]
  },
  {
   "cell_type": "markdown",
   "metadata": {},
   "source": [
    "### So far so good. But what happens if we want to call upon a SQL database, such as our Citibike database from Week 1, and display it in a Flask application?"
   ]
  },
  {
   "cell_type": "markdown",
   "metadata": {},
   "source": [
    "``` python\n",
    "@app.route(\"/citibike\")\n",
    "def citibike():\n",
    "\n",
    "    import sqlite3\n",
    "\n",
    "    con = sqlite3.connect('/Users/siegmanA/Desktop/library_app/citibikeDataForFlask.db') # connect to our db\n",
    "    cursor = con.cursor()\n",
    "\n",
    "    # retrieve records of all tables and construct dictionaries for convenient usage at HTML tamplates\n",
    "\n",
    "    station_data = cursor.execute(\"SELECT station_id, stationName, availableBikes, lastCommunicationTime FROM StationsData LIMIT 5\")\n",
    "\n",
    "    station_data = [{\"station_id\": i[0], \"stationName\": i[1], \"availableBikes\": i[2], \"lastCommunicationTime\": i[3]} for i in station_data]\n",
    "\n",
    "    return render_template('citibike.html', station_data=station_data)\n",
    "```"
   ]
  },
  {
   "cell_type": "markdown",
   "metadata": {},
   "source": [
    "### We then create a file called citibike.html in the templates folder.\n",
    "\n",
    "``` html\n",
    "<!DOCTYPE html>\n",
    "<html>\n",
    "<body>\n",
    "  <table>\n",
    "    <thead>\n",
    "      <tr>\n",
    "        <th>Station ID</th>\n",
    "        <th>Station Name</th>\n",
    "        <th>Available Bikes</th>\n",
    "        <th>Last Communication Time</th>\n",
    "      </tr>\n",
    "    </thead>\n",
    "    <tbody>\n",
    "      {% for i in station_data %}\n",
    "\t<tr>\n",
    "        <td>{{ i.station_id }}</td>\n",
    "        <td>{{ i.stationName }}</td>\n",
    "        <td>{{ i.availableBikes }}</td>\n",
    "        <td>{{ i.lastCommunicationTime }}</td>\n",
    "\t</tr>\n",
    "      {% endfor %}\n",
    "    </tbody> \n",
    "  </table>\n",
    "</body>\n",
    "</html>\n",
    "```"
   ]
  },
  {
   "cell_type": "markdown",
   "metadata": {},
   "source": [
    "---"
   ]
  },
  {
   "cell_type": "markdown",
   "metadata": {},
   "source": [
    "## Getting Parameters and Passing to SQL\n",
    "\n",
    "### Now let's see how we can query for the status of a Citibike station over time.\n",
    "\n",
    "### Here, we want to create a new function, where we will pass the `station_id` as a **parameter**. Then our code will read the value of the parameter `station_id` and then will query the database to get the status of that station."
   ]
  },
  {
   "cell_type": "markdown",
   "metadata": {},
   "source": [
    "### Let's make some additions to library.py:\n",
    "\n",
    "``` python\n",
    "from flask import request\n",
    "\n",
    "@app.route(\"/station_status\")\n",
    "def station_status():\n",
    "\n",
    "    import sqlite3\n",
    "\n",
    "    user_station_id = request.args.get('station_id')\n",
    "\n",
    "    con = sqlite3.connect('/Users/siegmanA/Desktop/library_app/citibikeDataForFlask.db') # connect to our db\n",
    "    cursor = con.cursor()\n",
    "\n",
    "    # retrieve records of all tables and construct dictionaries for convenient usage at HTML tamplates\n",
    "\n",
    "    station_data = cursor.execute(\"SELECT station_id, stationName, availableBikes, lastCommunicationTime FROM StationsData WHERE station_id = ? LIMIT 5\", [user_station_id,])\n",
    "\n",
    "    station_data = [{\"station_id\": i[0], \"stationName\": i[1], \"availableBikes\": i[2], \"lastCommunicationTime\": i[3]} for i in station_data]\n",
    "\n",
    "    return render_template('citibike.html', station_data=station_data,user_station_id=user_station_id)\n",
    "```"
   ]
  },
  {
   "cell_type": "markdown",
   "metadata": {},
   "source": [
    "### Now we can pass a parameter through our URL, such as http://0.0.0.0:5000/station_status?station_id=72"
   ]
  },
  {
   "cell_type": "markdown",
   "metadata": {},
   "source": [
    "---"
   ]
  },
  {
   "cell_type": "markdown",
   "metadata": {},
   "source": [
    "# Beautifying the app using Bootstrap\n",
    "\n",
    "Our HTML pages aren't exactly visually pleasing. Lucky for us, [Twitter's Bootstrap](http://getbootstrap.com/) is an excellent set of carefully crafted user interface elements, layouts and JavaScript tools, easily available to use in your web design project. \n",
    "\n",
    "All you need is to create a link to the [Bootstrap resources](http://getbootstrap.com/getting-started/#download-cdn) in the HTML head and use the predefined CSS styles."
   ]
  },
  {
   "cell_type": "markdown",
   "metadata": {},
   "source": [
    "### Let's change the HTML in the `templates/citibike.html` file, to add a few Bootstrap elements:\n",
    "\n",
    "```html\n",
    "<!DOCTYPE html>\n",
    "<html>\n",
    "<head>\n",
    "    <link rel=\"stylesheet\" href=\"https://stackpath.bootstrapcdn.com/bootstrap/4.1.3/css/bootstrap.min.css\" integrity=\"sha384-MCw98/SFnGE8fJT3GXwEOngsV7Zt27NXFoaoApmYm81iuXoPkFOJwJ8ERdknLPMO\" crossorigin=\"anonymous\">\n",
    "</head>\n",
    "<body>\n",
    "    <div class=\"container\">\n",
    "        <div class=\"panel panel-info\">\n",
    "            <div class=\"panel-heading\">\n",
    "                <h1 class=\"panel-title\">Citibike Stations</h1>\n",
    "            </div>\n",
    "            <table  class=\"table table-striped table-bordered table-hover\">\n",
    "    <thead>\n",
    "      <tr>\n",
    "        <th>Station ID</th>\n",
    "        <th>Station Name</th>\n",
    "        <th>Available Bikes</th>\n",
    "        <th>Last Communication Time</th>\n",
    "      </tr>\n",
    "    </thead>\n",
    "    <tbody>\n",
    "      {% for i in station_data %}\n",
    "\t<tr>\n",
    "        <td>{{ i.station_id }}</td>\n",
    "        <td>{{ i.stationName }}</td>\n",
    "        <td>{{ i.availableBikes }}</td>\n",
    "        <td>{{ i.lastCommunicationTime }}</td>\n",
    "\t</tr>\n",
    "      {% endfor %}\n",
    "    </tbody>\n",
    "    </table>\n",
    "  </div>\n",
    "</div>\n",
    "</body>\n",
    "</html>\n",
    "```"
   ]
  },
  {
   "cell_type": "markdown",
   "metadata": {},
   "source": [
    "---"
   ]
  },
  {
   "cell_type": "markdown",
   "metadata": {},
   "source": [
    "## We can also display plots in our Flask app"
   ]
  },
  {
   "cell_type": "code",
   "execution_count": null,
   "metadata": {},
   "outputs": [],
   "source": [
    "%matplotlib inline\n",
    "%config InlineBackend.figure_format = 'retina'"
   ]
  },
  {
   "cell_type": "code",
   "execution_count": 8,
   "metadata": {},
   "outputs": [],
   "source": [
    "import sqlite3\n",
    "import pandas as pd\n",
    "from matplotlib.pyplot import *\n",
    "import matplotlib as plt\n",
    "from flask import request"
   ]
  },
  {
   "cell_type": "code",
   "execution_count": 11,
   "metadata": {},
   "outputs": [
    {
     "data": {
      "image/png": "[encoded data removed]",
      "text/plain": [
       "<Figure size 1296x648 with 1 Axes>"
      ]
     },
     "metadata": {
      "needs_background": "light"
     },
     "output_type": "display_data"
    }
   ],
   "source": [
    "con = sqlite3.connect('citibikeDataForFlask.db') # connect to our database\n",
    "\n",
    "user_station_id = 72 # request.args.get('station_id')\n",
    "\n",
    "df = pd.read_sql(\"\"\"SELECT station_id,\n",
    "                    stationName,\n",
    "                    availableBikes,\n",
    "                    availableDocks,\n",
    "                    totalDocks,\n",
    "                    latitude,\n",
    "                    longitude,\n",
    "                    lastCommunicationTime\n",
    "                FROM StationsData WHERE station_id = (?)\"\"\", con, params=[user_station_id])\n",
    "\n",
    "df['lastCommunicationTime'] = pd.to_datetime(df['lastCommunicationTime'], format='%Y-%m-%d %H:%M:%S %p')\n",
    "\n",
    "df['percent_full'] = df['availableBikes']/df['totalDocks']\n",
    "\n",
    "df = df[df.lastCommunicationTime != '1969-12-31 07:00:00']\n",
    "\n",
    "station_timeseries = df.pivot_table(\n",
    "                        index='lastCommunicationTime',\n",
    "                        values='percent_full',\n",
    "                        aggfunc='mean'\n",
    "                    ).interpolate(method='time')\n",
    "\n",
    "plot = station_timeseries.plot(alpha=.5, figsize=(18, 9), ylim=(0,1), xlim=('2019-10-10 06', '2019-10-10 06:30'))\n"
   ]
  },
  {
   "cell_type": "code",
   "execution_count": 13,
   "metadata": {},
   "outputs": [],
   "source": [
    "filename = 'example.png'\n",
    "fig = plot.get_figure()\n",
    "fig.savefig(filename)\n",
    "fig.clear()"
   ]
  },
  {
   "cell_type": "markdown",
   "metadata": {},
   "source": [
    "### Now, to display that static image on our site, we need to: \n",
    "\n",
    "1. Create a place to store and serve the image. In our case, we create a folder called 'static' in our directory where Flask will go to find and serve \"_static_\" files\n",
    "2. Store the plot as an image under the static folder\n",
    "3. Modify our HTML code to display the image"
   ]
  },
  {
   "cell_type": "markdown",
   "metadata": {},
   "source": [
    "### In citibike.html, add the following: \n",
    "\n",
    "``` html\n",
    "<img class=\"center-block\" src=\"{{image}}\" />\n",
    "```\n",
    "\n",
    "### In library.py, add the following: \n",
    "\n",
    "```python\n",
    "import sqlite3\n",
    "import pandas as pd\n",
    "from matplotlib.pyplot import *\n",
    "import matplotlib as plt\n",
    "matplotlib.use('Agg')\n",
    "\n",
    "def create_plot(station,con):\n",
    "    con = sqlite3.connect('citibikeDataForFlask.db') # connect to our database\n",
    "    user_station_id = request.args.get('station_id')\n",
    "\n",
    "    df = pd.read_sql(\"\"\"SELECT station_id,\n",
    "                    stationName,\n",
    "                    availableBikes,\n",
    "                    availableDocks,\n",
    "                    totalDocks,\n",
    "                    latitude,\n",
    "                    longitude,\n",
    "                    lastCommunicationTime\n",
    "                FROM StationsData WHERE station_id = (?)\"\"\", con=con, params=[user_station_id])\n",
    "\n",
    "    df['lastCommunicationTime'] = pd.to_datetime(df['lastCommunicationTime'], format='%Y-%m-%d %H:%M:%S %p')\n",
    "\n",
    "    df['percent_full'] = df['availableBikes']/df['totalDocks']\n",
    "\n",
    "    df = df[df.lastCommunicationTime != '1969-12-31 07:00:00']\n",
    "\n",
    "    station_timeseries = df.pivot_table(\n",
    "                        index='lastCommunicationTime',\n",
    "                        values='percent_full',\n",
    "                        aggfunc='mean'\n",
    "                    ).interpolate(method='time')\n",
    "\n",
    "    plot = station_timeseries.plot(alpha=.5, figsize=(18, 9), ylim=(0,1), xlim=('2019-10-10 06', '2019-10-10 06:30'))\n",
    "\n",
    "    filename = 'static/plot-'+str(station)+ '.png'\n",
    "    fig = plot.get_figure()\n",
    "    fig.savefig(filename)\n",
    "    fig.clear()\n",
    "\n",
    "    return filename\n",
    "```\n",
    "\n",
    "### Finally, in library.py, we'll add to our station_status() function: \n",
    "\n",
    "```python\n",
    "@app.route(\"/station_status\")\n",
    "def station_status():\n",
    "\n",
    "    con = sqlite3.connect('citibikeDataForFlask.db') # connect to our database\n",
    "\n",
    "    user_station_id = request.args.get('station_id')\n",
    "\n",
    "    con = sqlite3.connect('/Users/siegmanA/Desktop/library_app/citibikeDataForFlask.db') # connect to our db\n",
    "    cursor = con.cursor()\n",
    "\n",
    "    # retrieve records of all tables and construct dictionaries for convenient usage at HTML tamplates\n",
    "\n",
    "    station_data = cursor.execute(\"SELECT station_id, stationName, availableBikes, lastCommunicationTime FROM StationsData WHERE station_id = ? LIMIT 5\", [user_station_id,])\n",
    "\n",
    "    station_data = [{\"station_id\": i[0], \"stationName\": i[1], \"availableBikes\": i[2], \"lastCommunicationTime\": i[3]} for i in station_data]\n",
    "\n",
    "    image_filename = create_plot(user_station_id, con)\n",
    "\n",
    "    return render_template('citibike.html', station_data=station_data, user_station_id=user_station_id, image=image_filename)\n",
    "```\n",
    "\n",
    "\n",
    "\n",
    "\n"
   ]
  },
  {
   "cell_type": "code",
   "execution_count": null,
   "metadata": {},
   "outputs": [],
   "source": []
  },
  {
   "cell_type": "code",
   "execution_count": null,
   "metadata": {},
   "outputs": [],
   "source": []
  },
  {
   "cell_type": "code",
   "execution_count": null,
   "metadata": {},
   "outputs": [],
   "source": []
  },
  {
   "cell_type": "code",
   "execution_count": null,
   "metadata": {},
   "outputs": [],
   "source": []
  },
  {
   "cell_type": "code",
   "execution_count": null,
   "metadata": {},
   "outputs": [],
   "source": []
  },
  {
   "cell_type": "code",
   "execution_count": null,
   "metadata": {},
   "outputs": [],
   "source": []
  },
  {
   "cell_type": "code",
   "execution_count": null,
   "metadata": {},
   "outputs": [],
   "source": []
  },
  {
   "cell_type": "code",
   "execution_count": null,
   "metadata": {},
   "outputs": [],
   "source": []
  },
  {
   "cell_type": "code",
   "execution_count": null,
   "metadata": {},
   "outputs": [],
   "source": []
  },
  {
   "cell_type": "code",
   "execution_count": null,
   "metadata": {},
   "outputs": [],
   "source": []
  },
  {
   "cell_type": "code",
   "execution_count": null,
   "metadata": {},
   "outputs": [],
   "source": []
  },
  {
   "cell_type": "code",
   "execution_count": null,
   "metadata": {},
   "outputs": [],
   "source": []
  },
  {
   "cell_type": "code",
   "execution_count": null,
   "metadata": {},
   "outputs": [],
   "source": []
  },
  {
   "cell_type": "markdown",
   "metadata": {},
   "source": [
    "---"
   ]
  },
  {
   "cell_type": "markdown",
   "metadata": {},
   "source": [
    "## Querying via Flask\n",
    "\n",
    "### Last but not least, what happens if we want to query from our Citibike database? \n",
    "\n",
    "### For this, we'll use the [Flask-SQLAlchemy](http://flask-sqlalchemy.pocoo.org/2.1/) extension to manage our application, because the usage of direct queries is really not convenient. \n",
    "\n",
    "### This extension provides a wrapper for the SQLAlchemy project, which is an [Object Relational Mapper (ORM)](https://en.wikipedia.org/wiki/Object-relational_mapping). ORMs allow database applications to work with objects instead of tables and SQL. The operations performed on the objects are translated into database commands transparently by the ORM. "
   ]
  },
  {
   "cell_type": "code",
   "execution_count": null,
   "metadata": {},
   "outputs": [],
   "source": [
    "# SOURCES:\n",
    "\n",
    "# 1. https://towardsdatascience.com/sqlalchemy-python-tutorial-79a577141a91\n",
    "# 2. https://kite.com/blog/python/flask-sqlalchemy-tutorial/\n",
    "# 3. "
   ]
  },
  {
   "cell_type": "markdown",
   "metadata": {},
   "source": [
    "---"
   ]
  },
  {
   "cell_type": "markdown",
   "metadata": {},
   "source": [
    "---"
   ]
  },
  {
   "cell_type": "markdown",
   "metadata": {},
   "source": [
    "---"
   ]
  },
  {
   "cell_type": "markdown",
   "metadata": {},
   "source": [
    "# Below is info on SQLAlchemy without Flask "
   ]
  },
  {
   "cell_type": "code",
   "execution_count": null,
   "metadata": {},
   "outputs": [],
   "source": [
    "# !pip install sqlalchemy / !conda install sqlalchemy"
   ]
  },
  {
   "cell_type": "code",
   "execution_count": null,
   "metadata": {},
   "outputs": [],
   "source": [
    "import sqlalchemy as db\n",
    "engine = db.create_engine('sqlite:///citibikeDataForFlask.db')"
   ]
  },
  {
   "cell_type": "code",
   "execution_count": null,
   "metadata": {},
   "outputs": [],
   "source": [
    "connection = engine.connect()"
   ]
  },
  {
   "cell_type": "code",
   "execution_count": null,
   "metadata": {},
   "outputs": [],
   "source": [
    "metadata = db.MetaData()"
   ]
  },
  {
   "cell_type": "code",
   "execution_count": null,
   "metadata": {},
   "outputs": [],
   "source": [
    "citibike = db.Table('StationsData', metadata, autoload=True, autoload_with=engine)"
   ]
  },
  {
   "cell_type": "code",
   "execution_count": null,
   "metadata": {},
   "outputs": [],
   "source": [
    "# SqlAlchemy’s autoload functionality, which will introspect the table and pull out the field names in a rather \n",
    "# magical way. We’ll start off with the autoload method and then show the long way in the next section."
   ]
  },
  {
   "cell_type": "code",
   "execution_count": null,
   "metadata": {},
   "outputs": [],
   "source": [
    "citibike"
   ]
  },
  {
   "cell_type": "code",
   "execution_count": null,
   "metadata": {},
   "outputs": [],
   "source": [
    "print(citibike.columns.keys())"
   ]
  },
  {
   "cell_type": "code",
   "execution_count": null,
   "metadata": {},
   "outputs": [],
   "source": [
    "query = db.select([citibike])\n",
    "ResultProxy = connection.execute(query)\n",
    "ResultSet = ResultProxy.fetchall()\n",
    "\n",
    "# this is equivalent to \"SELECT * FROM StationsData\""
   ]
  },
  {
   "cell_type": "code",
   "execution_count": null,
   "metadata": {},
   "outputs": [],
   "source": [
    "ResultSet[:5]"
   ]
  },
  {
   "cell_type": "code",
   "execution_count": null,
   "metadata": {},
   "outputs": [],
   "source": [
    "import pandas as pd\n",
    "\n",
    "df = pd.DataFrame(ResultSet)"
   ]
  },
  {
   "cell_type": "code",
   "execution_count": null,
   "metadata": {},
   "outputs": [],
   "source": [
    "df"
   ]
  },
  {
   "cell_type": "code",
   "execution_count": null,
   "metadata": {},
   "outputs": [],
   "source": [
    "query = db.select([citibike]).where(citibike.columns.station_id == 301)\n",
    "ResultProxy = connection.execute(query)\n",
    "ResultSet = ResultProxy.fetchall()\n",
    "\n",
    "ResultSet"
   ]
  },
  {
   "cell_type": "markdown",
   "metadata": {},
   "source": [
    "---"
   ]
  },
  {
   "cell_type": "markdown",
   "metadata": {},
   "source": [
    "---"
   ]
  },
  {
   "cell_type": "markdown",
   "metadata": {},
   "source": [
    "---"
   ]
  },
  {
   "cell_type": "markdown",
   "metadata": {},
   "source": [
    "# Below is SQLAlchemy with Flask"
   ]
  },
  {
   "cell_type": "code",
   "execution_count": null,
   "metadata": {},
   "outputs": [],
   "source": []
  },
  {
   "cell_type": "code",
   "execution_count": null,
   "metadata": {},
   "outputs": [],
   "source": []
  },
  {
   "cell_type": "code",
   "execution_count": null,
   "metadata": {},
   "outputs": [],
   "source": []
  },
  {
   "cell_type": "code",
   "execution_count": null,
   "metadata": {},
   "outputs": [],
   "source": []
  },
  {
   "cell_type": "code",
   "execution_count": null,
   "metadata": {},
   "outputs": [],
   "source": []
  },
  {
   "cell_type": "code",
   "execution_count": null,
   "metadata": {},
   "outputs": [],
   "source": []
  }
 ],
 "metadata": {
  "kernelspec": {
   "display_name": "Python 3",
   "language": "python",
   "name": "python3"
  },
  "language_info": {
   "codemirror_mode": {
    "name": "ipython",
    "version": 3
   },
   "file_extension": ".py",
   "mimetype": "text/x-python",
   "name": "python",
   "nbconvert_exporter": "python",
   "pygments_lexer": "ipython3",
   "version": "3.7.3"
  }
 },
 "nbformat": 4,
 "nbformat_minor": 2
}
