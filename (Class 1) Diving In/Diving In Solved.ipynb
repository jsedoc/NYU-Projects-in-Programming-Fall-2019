{
 "cells": [
  {
   "cell_type": "markdown",
   "metadata": {},
   "source": [
    "## Welcome to Projects in Programming & Data Science. \n",
    "\n",
    "## Today we're going to jump right in to the mix and leverage the CitiBike API to populate a sqlite database at regular intervals. Consider this your warm-up for the semester! "
   ]
  },
  {
   "cell_type": "markdown",
   "metadata": {},
   "source": [
    "---"
   ]
  },
  {
   "cell_type": "markdown",
   "metadata": {},
   "source": [
    "\n"
   ]
  },
  {
   "cell_type": "code",
   "execution_count": null,
   "metadata": {},
   "outputs": [],
   "source": [
    "import sqlite3"
   ]
  },
  {
   "cell_type": "code",
   "execution_count": null,
   "metadata": {},
   "outputs": [],
   "source": [
    "con = sqlite3.connect('citibikeData.db') # create our database"
   ]
  },
  {
   "cell_type": "markdown",
   "metadata": {},
   "source": [
    "## Now, let's check out the API we'll be working with:\n",
    "\n",
    "### https://streamdata.io/developers/api-gallery/new-york-citibike-api/\n",
    "\n",
    "#### First, we'll request the json from the CitiBike API URL and just print it out to get a quick glimpse"
   ]
  },
  {
   "cell_type": "code",
   "execution_count": null,
   "metadata": {},
   "outputs": [],
   "source": [
    "import json \n",
    "import urllib.request # https://docs.python.org/3/library/urllib.request.html\n",
    "\n",
    "with urllib.request.urlopen(\"https://feeds.citibikenyc.com/stations/stations.json\") as url:\n",
    "    data = json.loads(url.read().decode())\n",
    "    print(data)"
   ]
  },
  {
   "cell_type": "code",
   "execution_count": null,
   "metadata": {},
   "outputs": [],
   "source": [
    "stations = data['stationBeanList'] # iterate through the json to find the station data"
   ]
  },
  {
   "cell_type": "code",
   "execution_count": null,
   "metadata": {},
   "outputs": [],
   "source": [
    "import pandas as pd # we'll use pandas just to visualize our data, NOT to query it\n",
    "\n",
    "df_stations = pd.DataFrame(stations)\n",
    "df_stations.head() # check the first five station entries\n",
    "\n",
    "# you'll note that it has set 'altitude' as our index; if we were working only in Pandas we'd probably want to \n",
    "# change that, but we can leave it alone for now"
   ]
  },
  {
   "cell_type": "code",
   "execution_count": null,
   "metadata": {},
   "outputs": [],
   "source": [
    "sql = \"CREATE TABLE IF NOT EXISTS StationsData (station_id int, stationName varchar(250), availableDocks int, totalDocks int, latitude float, longitude float, statusValue varchar(250), statusKey int, availableBikes int, stAddress1 varchar(250), stAddress2 varchar(250), city varchar(250), postalCode varchar(250), location varchar(250), altitude varchar(250), testStation bool, lastCommunicationTime date, landMark varchar(250));\" \n",
    "\n",
    "con.execute(sql)\n",
    "con.commit()"
   ]
  },
  {
   "cell_type": "code",
   "execution_count": null,
   "metadata": {},
   "outputs": [],
   "source": [
    "from datetime import datetime # import the datetime library "
   ]
  },
  {
   "cell_type": "code",
   "execution_count": null,
   "metadata": {},
   "outputs": [],
   "source": [
    "query_template = \"\"\"INSERT OR IGNORE INTO StationsData(station_id, stationName, availableDocks, totalDocks, latitude, \\\n",
    "longitude, statusValue, statusKey, availableBikes, stAddress1, stAddress2, city, postalCode, location, altitude, \\\n",
    "testStation, lastCommunicationTime, landMark) VALUES (?, ?, ?, ?, ?, ?, ?, ?, ?, ?, ?, ?, ?, ?, ?, ?, ?, ?);\"\"\"\n",
    "\n",
    "for entry in stations: # for every station entry in the json \n",
    "    station_id = int(entry['id']) # find and set station_id\n",
    "    stationName = str(entry['stationName'])\n",
    "    availableDocks = int(entry['availableDocks'])\n",
    "    totalDocks = int(entry['totalDocks'])\n",
    "    latitude = str(entry['latitude'])\n",
    "    longitude = str(entry['longitude'])\n",
    "    statusValue = str(entry['statusValue'])\n",
    "    statusKey = int(entry['statusKey'])\n",
    "    availableBikes = int(entry['availableBikes'])\n",
    "    stAddress1 = str(entry['stAddress1'])\n",
    "    stAddress2 = str(entry['stAddress2'])\n",
    "    city = str(entry['city'])\n",
    "    postalCode = str(entry['postalCode'])\n",
    "    location = str(entry['location'])\n",
    "    altitude = str(entry['altitude'])\n",
    "    testStation = bool(entry['testStation'])\n",
    "    lastCommunicationTime = entry['lastCommunicationTime']\n",
    "    landMark = str(entry['landMark'])\n",
    "                           \n",
    "    print(\"Inserting Station:\", station_id, stationName, availableDocks, totalDocks, latitude, longitude, statusValue, statusKey, availableBikes, stAddress1, stAddress2, city, postalCode, location, altitude, testStation, lastCommunicationTime, landMark) \n",
    "    \n",
    "    query_parameters = (station_id, stationName, availableDocks, totalDocks, latitude, longitude, statusValue, statusKey, availableBikes, stAddress1, stAddress2, city, postalCode, location, altitude, testStation, lastCommunicationTime, landMark) \n",
    "    \n",
    "    con.execute(query_template, query_parameters)\n",
    "    \n",
    "con.commit()"
   ]
  },
  {
   "cell_type": "code",
   "execution_count": null,
   "metadata": {},
   "outputs": [],
   "source": [
    "check = pd.read_sql(\"SELECT * FROM StationsData LIMIT 5\", con=con)\n",
    "check"
   ]
  },
  {
   "cell_type": "markdown",
   "metadata": {},
   "source": [
    "## Last but not least, let's set things up so that our database automatically updates every 15 seconds. "
   ]
  },
  {
   "cell_type": "code",
   "execution_count": null,
   "metadata": {},
   "outputs": [],
   "source": [
    "import time \n",
    "import json \n",
    "import urllib.request\n",
    "from datetime import datetime\n",
    "\n",
    "while True:\n",
    "    \n",
    "    with urllib.request.urlopen(\"https://feeds.citibikenyc.com/stations/stations.json\") as url:\n",
    "        data = json.loads(url.read().decode())\n",
    "\n",
    "    stations = data['stationBeanList'] # iterate through the json to find the station data\n",
    "\n",
    "    con = sqlite3.connect('citibikeData.db') # connect to our db\n",
    "\n",
    "    query_template = \"\"\"INSERT OR IGNORE INTO StationsData(station_id, stationName, availableDocks, totalDocks, latitude, \\\n",
    "    longitude, statusValue, statusKey, availableBikes, stAddress1, stAddress2, city, postalCode, location, altitude, \\\n",
    "    testStation, lastCommunicationTime, landMark) VALUES (?, ?, ?, ?, ?, ?, ?, ?, ?, ?, ?, ?, ?, ?, ?, ?, ?, ?);\"\"\"\n",
    "\n",
    "    for entry in stations: # for every station entry in the json \n",
    "        station_id = int(entry['id']) # find and set station_id\n",
    "        stationName = str(entry['stationName'])\n",
    "        availableDocks = int(entry['availableDocks'])\n",
    "        totalDocks = int(entry['totalDocks'])\n",
    "        latitude = str(entry['latitude'])\n",
    "        longitude = str(entry['longitude'])\n",
    "        statusValue = str(entry['statusValue'])\n",
    "        statusKey = int(entry['statusKey'])\n",
    "        availableBikes = int(entry['availableBikes'])\n",
    "        stAddress1 = str(entry['stAddress1'])\n",
    "        stAddress2 = str(entry['stAddress2'])\n",
    "        city = str(entry['city'])\n",
    "        postalCode = str(entry['postalCode'])\n",
    "        location = str(entry['location'])\n",
    "        altitude = str(entry['altitude'])\n",
    "        testStation = bool(entry['testStation'])\n",
    "        lastCommunicationTime = entry['lastCommunicationTime']\n",
    "        landMark = str(entry['landMark'])\n",
    "                           \n",
    "        print(\"Inserting Station:\", station_id, stationName, availableDocks, totalDocks, latitude, longitude, statusValue, statusKey, availableBikes, stAddress1, stAddress2, city, postalCode, location, altitude, testStation, lastCommunicationTime, landMark) \n",
    "        query_parameters = (station_id, stationName, availableDocks, totalDocks, latitude, longitude, statusValue, statusKey, availableBikes, stAddress1, stAddress2, city, postalCode, location, altitude, testStation, lastCommunicationTime, landMark) \n",
    "       \n",
    "        con.execute(query_template, query_parameters)\n",
    "    \n",
    "    con.commit()\n",
    "        \n",
    "    time.sleep(15)"
   ]
  },
  {
   "cell_type": "markdown",
   "metadata": {},
   "source": [
    "---"
   ]
  },
  {
   "cell_type": "markdown",
   "metadata": {},
   "source": [
    "## I hope this has helped you find your programming legs! Next week we'll get back to descriptive analytics using Python and Pandas. For now, take time to refresh yourself on the content covered in \"Introduction to Programming\". \n",
    "\n",
    "## If you need a referesher on your SQL skills, check out the \"Supplementary Info\" directory in the class repo."
   ]
  }
 ],
 "metadata": {
  "kernelspec": {
   "display_name": "Python 3",
   "language": "python",
   "name": "python3"
  },
  "language_info": {
   "codemirror_mode": {
    "name": "ipython",
    "version": 3
   },
   "file_extension": ".py",
   "mimetype": "text/x-python",
   "name": "python",
   "nbconvert_exporter": "python",
   "pygments_lexer": "ipython3",
   "version": "3.7.3"
  }
 },
 "nbformat": 4,
 "nbformat_minor": 2
}
