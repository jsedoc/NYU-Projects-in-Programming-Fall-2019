{
 "cells": [
  {
   "cell_type": "markdown",
   "metadata": {},
   "source": [
    "# All material ©2019, Alex Siegman"
   ]
  },
  {
   "cell_type": "markdown",
   "metadata": {},
   "source": [
    "---"
   ]
  },
  {
   "cell_type": "markdown",
   "metadata": {},
   "source": [
    "## Regular Expressions"
   ]
  },
  {
   "cell_type": "markdown",
   "metadata": {},
   "source": [
    "### Regular expressions are like pattern matchers – they allow us to match certain texts within a larger block of text. But, unlike a Command+F search, regular expressions allow you to be flexible. \n",
    "\n",
    "### To best understand, let's delve right into an example.  I have copied the text from http://obamaspeeches.com/ into a .txt file for ease of reading. This file represents the full text of Obama's 2009 Inauguration Speech. "
   ]
  },
  {
   "cell_type": "code",
   "execution_count": null,
   "metadata": {},
   "outputs": [],
   "source": [
    "# first, we are going to open the .txt file \n",
    "\n",
    "sentences = open('/Users/siegmanA/Desktop/NYU-Projects-in-Programming-Fall-2019/(Class 4) Regular Expressions /Obama_2009_InauguralAddress.txt').readlines()    \n",
    "    \n",
    "print(\"The object 'sentences' is of type\", type(sentences)) # let's see how our sentences are being stored in Python\n",
    "print(\"There are\", len(sentences), \"sentences in the list\") # how many sentences are there?\n",
    "print(\"\\n\") # print a new line just for ease of reading\n",
    "\n",
    "print(sentences) # let's see all of our sentences"
   ]
  },
  {
   "cell_type": "code",
   "execution_count": null,
   "metadata": {},
   "outputs": [],
   "source": [
    "print(sentences[:10]) # what about the first ten sentences?"
   ]
  },
  {
   "cell_type": "markdown",
   "metadata": {},
   "source": [
    "### You'll see that there's a lot of ugly formatting involved. Luckly, we can strip all of that extraneous content. "
   ]
  },
  {
   "cell_type": "code",
   "execution_count": null,
   "metadata": {},
   "outputs": [],
   "source": [
    "new_sentences = []\n",
    "\n",
    "for i in sentences: \n",
    "    new_sentences.append(i.strip())\n",
    "    \n",
    "# you could also write the above loop as: new_sentences.append(i.splitlines()) for i in sentences\n",
    "    \n",
    "print(new_sentences)"
   ]
  },
  {
   "cell_type": "markdown",
   "metadata": {},
   "source": [
    "### Now, let's delve right in!"
   ]
  },
  {
   "cell_type": "code",
   "execution_count": null,
   "metadata": {},
   "outputs": [],
   "source": [
    "import re\n",
    "from re import search # import the search function from the regular expression (re) library"
   ]
  },
  {
   "cell_type": "markdown",
   "metadata": {},
   "source": [
    "### One of the first things you may want to do is search for a literal – simply match the exact text in the document in question. For instance, if we want to find any mention of the word, \"America\"..."
   ]
  },
  {
   "cell_type": "code",
   "execution_count": null,
   "metadata": {
    "scrolled": true
   },
   "outputs": [],
   "source": [
    "for i in new_sentences:\n",
    "    result = re.search(\"America\",i)\n",
    "    print(result)"
   ]
  },
  {
   "cell_type": "code",
   "execution_count": null,
   "metadata": {
    "scrolled": true
   },
   "outputs": [],
   "source": [
    "[i for i in new_sentences if search(\"America\",i)]"
   ]
  },
  {
   "cell_type": "markdown",
   "metadata": {},
   "source": [
    "### What if we aren't looking for a proper noun, but rather for the word 'homes' – it could be spelled 'homes' or 'Homes' depending on where in the sentence it is. \n",
    "\n",
    "### Rather than write two different literal searches, we can do this: "
   ]
  },
  {
   "cell_type": "code",
   "execution_count": null,
   "metadata": {},
   "outputs": [],
   "source": [
    "[i for i in new_sentences if search(\"[Hh]omes\",i)] # looking for upper or lower-case 'h' followed by 'omes'"
   ]
  },
  {
   "cell_type": "markdown",
   "metadata": {},
   "source": [
    "### It's important to note that putting a backslach \\ before a special metacharacter let's you include that metacharacter as a literal. \n",
    "\n",
    "For instance, if I'm looking for a dollar value in a text, and wanted to search for the '$' symbol, I would have to type: \n",
    "\n",
    "> re.search(\"\\$) \n",
    "\n",
    "in order to look for it. \n",
    "\n",
    "### To illustrate, imagine we have a new text: \n"
   ]
  },
  {
   "cell_type": "code",
   "execution_count": null,
   "metadata": {},
   "outputs": [],
   "source": [
    "text = [\"In 2019 profits rose by $4,000,000\",\"This is the first time that profits have rose by more than %40 in a decade.\"]"
   ]
  },
  {
   "cell_type": "code",
   "execution_count": null,
   "metadata": {
    "scrolled": true
   },
   "outputs": [],
   "source": [
    "[i for i in text if search(\"$\",i)]"
   ]
  },
  {
   "cell_type": "markdown",
   "metadata": {},
   "source": [
    "### You'll see this returns both of our setnences. That's because dollar sign is a special character (which we'll discuss in a moment). But ultimately, to search for the literal dollar symbol, we use the backslach to \"escape\" that special character."
   ]
  },
  {
   "cell_type": "code",
   "execution_count": null,
   "metadata": {},
   "outputs": [],
   "source": [
    "[i for i in text if search(\"\\$\",i)]"
   ]
  },
  {
   "cell_type": "markdown",
   "metadata": {},
   "source": [
    "## Dealing with 'metacharacters' \n",
    "\n",
    "Metacharacters include \"  \\ ^ $ . | ? * + ( ) [ ] and \\\n",
    "\n",
    "These metacharacters help us match various, non-literal components of a sentence. For instance, the search: \n",
    "\n",
    "re.search(\"^I think\",sentence) means that you are searching for the words \"I think\" at the start of a line (that's what the '^' represents."
   ]
  },
  {
   "cell_type": "code",
   "execution_count": null,
   "metadata": {},
   "outputs": [],
   "source": [
    "[i for i in new_sentences if search(\"^My\",i)]"
   ]
  },
  {
   "cell_type": "markdown",
   "metadata": {},
   "source": [
    "### To gain insight into what your regular expression is doing at any time, I highly recommend using regexper.com (https://regexper.com/) which will allow you to see exactly what a given search is doing. \n",
    "\n",
    "For instance, check out https://regexper.com/#%5EMy%0A to see what we just did with '^My'\n",
    "\n",
    "Here is a good cheat sheet for all the special characters, too, From Emma Wedekind: https://dev.to/emmawedekind/regex-cheat-sheet-2j2a\n",
    "\n",
    "Finally, I'd also recommend RegEx101, a handy debugger for regular expressions: https://regex101.com/"
   ]
  },
  {
   "cell_type": "markdown",
   "metadata": {},
   "source": [
    "### Here are some more regex special character examples: "
   ]
  },
  {
   "cell_type": "code",
   "execution_count": null,
   "metadata": {},
   "outputs": [],
   "source": [
    "[i for i in new_sentences if search(\"sights.$\",i)]\n",
    "\n",
    "# the '.' represents a wildcard (it can refer to any character)\n",
    "# the '$' represents the end of a sentence\n",
    "# thus, we are looking for a sentence that ends in, \"remember.\""
   ]
  },
  {
   "cell_type": "code",
   "execution_count": null,
   "metadata": {},
   "outputs": [],
   "source": [
    "[i for i in new_sentences if search(\"[0-9]\",i)]\n",
    "\n",
    "# the '[0-9]' will match any integer, 0-9. s you'll see, it matches '9211' which isn't really part of the text, \n",
    "# but is part of the formatting. Still, it works!"
   ]
  },
  {
   "cell_type": "code",
   "execution_count": null,
   "metadata": {},
   "outputs": [],
   "source": [
    "[i for i in new_sentences if search(\"[^?.]$\",i)]\n",
    "\n",
    "# the pattern *\"[^?.]\\$\"* will match sentences that don't end in a period or a question mark \n",
    "# it's important to note that you don't have to \"escape\" (backslach) characters in a character class -- or \n",
    "# between [ and ]) "
   ]
  },
  {
   "cell_type": "code",
   "execution_count": null,
   "metadata": {},
   "outputs": [],
   "source": [
    "[i for i in new_sentences if search(\"remember|forget\",i)]\n",
    "\n",
    "# the 'remeber|forget' means we're searching for either 'remember' or 'forget'"
   ]
  },
  {
   "cell_type": "code",
   "execution_count": null,
   "metadata": {
    "scrolled": true
   },
   "outputs": [],
   "source": [
    "[i for i in new_sentences if search(\"day|month|year\",i)]\n",
    "\n",
    "# you can also search with multiple \"or\" statements\n",
    "# here, we are looking for either the word \"day\", \"month\", or \"year\""
   ]
  },
  {
   "cell_type": "code",
   "execution_count": null,
   "metadata": {},
   "outputs": [],
   "source": [
    "[i for i in new_sentences if search(\"^[Tt]oday|OK\\?$\",i)]\n",
    "\n",
    "# this is complex, but we're looking for a sentence that either starts with \"Today\" or \"today\" or that ends with \"OK?\"\n",
    "# check https://regexper.com/#%5E%5BWw%5Datch%7COK%5C?%24 for a graphical representation "
   ]
  },
  {
   "cell_type": "code",
   "execution_count": null,
   "metadata": {},
   "outputs": [],
   "source": [
    "[i for i in new_sentences if search(\"^We.*\",i)]\n",
    "\n",
    "# the \\* and + signs are metacharacters used to indicate repetition\n",
    "# \\* means “any number, including zero, of the item” \n",
    "# + means “at least one of the item”\n",
    "\n",
    "# above, we're looking for the word \"We\" that starts a sentence, followed by any character, any number of times"
   ]
  },
  {
   "cell_type": "code",
   "execution_count": null,
   "metadata": {},
   "outputs": [],
   "source": [
    "# {} are known as \"interval quantifiers\" that let us specify the number of matches we want \n",
    "\n",
    "[i for i in new_sentences if search(\"We (\\\\w+ ){1,7}nation\",i)]\n",
    "\n",
    "# this one is tricky...\n",
    "# first, we are looking for the word \"We\"...\n",
    "# then, (\\\\w+ ) stands for \"any letter or number\", and the {1,7} means we are looking for any letter or number 1 to 7 times\n",
    "# then we are looking for the word \"nation\"\n",
    "\n",
    "# thus, we are looking for \"We\", then between 1 and 7 (inclusive) words, then the word \"nation\""
   ]
  },
  {
   "cell_type": "markdown",
   "metadata": {},
   "source": [
    "## What about a more complex document, now? A PDF, perhaps? \n",
    "\n",
    "### _For more on PyPDF2, check out https://pythonhosted.org/PyPDF2/_"
   ]
  },
  {
   "cell_type": "code",
   "execution_count": null,
   "metadata": {},
   "outputs": [],
   "source": [
    "!pip install PyPDF2"
   ]
  },
  {
   "cell_type": "code",
   "execution_count": null,
   "metadata": {},
   "outputs": [],
   "source": [
    "from PyPDF2 import PdfFileReader\n",
    "\n",
    "# open the file for 'reading' and signal that the data inside might be 'binary'\n",
    "# let's read'Statistics Manual by Edwin L. Crow, Frances A. Davis, and Margaret W. Maxfield' for the heck of it\n",
    "\n",
    "file = open('/Users/siegmanA/Desktop/NYU-Projects-in-Programming-Fall-2019/(Class 4) Regular Expressions /2019Q1_alphabet_earnings_release.pdf', 'rb')\n",
    "\n",
    "# use the file to create a PDF reader object to extract the text\n",
    "pdf = PdfFileReader(file)\n",
    "type(pdf)"
   ]
  },
  {
   "cell_type": "code",
   "execution_count": null,
   "metadata": {},
   "outputs": [],
   "source": [
    "# let's see what sorts of things we can do: \n",
    "\n",
    "help(pdf)"
   ]
  },
  {
   "cell_type": "code",
   "execution_count": null,
   "metadata": {},
   "outputs": [],
   "source": [
    "pdf.numPages # how many pages in our pdf? "
   ]
  },
  {
   "cell_type": "code",
   "execution_count": null,
   "metadata": {},
   "outputs": [],
   "source": [
    "page = pdf.getPage(4) # let's take a look at page 33 of our pdf...\n",
    "\n",
    "page = page.extractText()\n",
    "\n",
    "print(page) # and print just the text"
   ]
  },
  {
   "cell_type": "code",
   "execution_count": null,
   "metadata": {},
   "outputs": [],
   "source": [
    "# and, last but not least, some regular expressions to prove we've got everything we need: \n",
    "\n",
    "import re\n",
    "from re import search # import the search function from the regular expression (re) library\n",
    "\n",
    "result = re.search(\"Research\",page)\n",
    "print(result)"
   ]
  },
  {
   "cell_type": "markdown",
   "metadata": {},
   "source": [
    "---"
   ]
  },
  {
   "cell_type": "markdown",
   "metadata": {},
   "source": [
    "## Next week we'll take our knowledge of regular expressions and marry it with our soon-to-be web scraping skills. "
   ]
  }
 ],
 "metadata": {
  "kernelspec": {
   "display_name": "Python 3",
   "language": "python",
   "name": "python3"
  },
  "language_info": {
   "codemirror_mode": {
    "name": "ipython",
    "version": 3
   },
   "file_extension": ".py",
   "mimetype": "text/x-python",
   "name": "python",
   "nbconvert_exporter": "python",
   "pygments_lexer": "ipython3",
   "version": "3.7.3"
  }
 },
 "nbformat": 4,
 "nbformat_minor": 2
}
